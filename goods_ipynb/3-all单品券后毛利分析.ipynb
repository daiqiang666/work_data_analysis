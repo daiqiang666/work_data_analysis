{
 "cells": [
  {
   "cell_type": "markdown",
   "id": "e442069f",
   "metadata": {},
   "source": [
    "#  1）建立对象与导入原始数据"
   ]
  },
  {
   "cell_type": "code",
   "execution_count": 1,
   "id": "85335c78",
   "metadata": {},
   "outputs": [],
   "source": [
    "######建立对象\n",
    "import sys\n",
    "sys.path.append('E:\\\\python-dq\\\\py\\\\work')\n",
    "import imp\n",
    "\n",
    "import dq_work.goods.goods_1 as goods\n",
    "\n",
    "\n",
    "imp.reload(goods)#再次引入模块，默认只有一次，调试程序时有用\n",
    "\n",
    "#建立对象\n",
    "###建立对象的相关参数变量\n",
    "\n",
    "company='上海'\n",
    "date_Range='202301'\n",
    "date_Range_all='20230101-0127'\n",
    "in_file_path='e:/python-dq/work_data/goods_data/in/'\n",
    "out_file_path='e:/python-dq/work_data/goods_data/out/'\n",
    "public_path='e:/python-dq/work_data/public_data/out/'\n",
    "\n",
    "all_sku_goods_obj=goods.all_sku_goods(company,date_Range,date_Range_all,in_file_path,out_file_path,public_path)\n"
   ]
  },
  {
   "cell_type": "code",
   "execution_count": 2,
   "id": "48b08c16",
   "metadata": {},
   "outputs": [
    {
     "name": "stdout",
     "output_type": "stream",
     "text": [
      "导入all sku GoodPath 原始数据 over\n"
     ]
    }
   ],
   "source": [
    "##导入销售原始数据\n",
    "in_file1='03_业务报表-销售报表-销售-'+company+ '-'+date_Range_all+'.csv'\n",
    "df_原始销售_all= \\\n",
    "all_sku_goods_obj.load_data_all_sku_GoodPath(in_file1)\n",
    "\n",
    "df_原始销售_all[['供应商业务码']]=df_原始销售_all[['供应商业务码']].astype(str) \n",
    "df_原始销售_all['供应商业务码']=df_原始销售_all['供应商业务码'].str.strip()\n"
   ]
  },
  {
   "cell_type": "code",
   "execution_count": 3,
   "id": "0df43088",
   "metadata": {},
   "outputs": [
    {
     "name": "stdout",
     "output_type": "stream",
     "text": [
      "导入all sku PublicPath 原始数据 over\n"
     ]
    }
   ],
   "source": [
    "##导入券原始数据\n",
    "in_file2='01-用劵分摊-商品层级-原版-all-data-'+company+ '-'+date_Range_all+'.csv'\n",
    "df_原始券_all= \\\n",
    "all_sku_goods_obj.load_data_all_sku_PublicPath(in_file2)\n",
    "\n",
    "df_原始券_all[['供应商业务码']]=df_原始券_all[['供应商业务码']].astype(str) \n",
    "df_原始券_all['供应商业务码']=df_原始券_all['供应商业务码'].str.strip()\n"
   ]
  },
  {
   "cell_type": "code",
   "execution_count": 4,
   "id": "97313176",
   "metadata": {},
   "outputs": [
    {
     "data": {
      "text/plain": [
       "万家承担金额（去税）    1.076276e+07\n",
       "dtype: float64"
      ]
     },
     "execution_count": 4,
     "metadata": {},
     "output_type": "execute_result"
    }
   ],
   "source": [
    "df_原始券_all.loc[:,['万家承担金额（去税）']].sum()"
   ]
  },
  {
   "cell_type": "code",
   "execution_count": 5,
   "id": "2491ba54",
   "metadata": {},
   "outputs": [
    {
     "name": "stdout",
     "output_type": "stream",
     "text": [
      "导入all sku PublicPath 原始数据 over\n"
     ]
    }
   ],
   "source": [
    "##导入类别数据\n",
    "in_file5='B-分析-品类基础资料.csv'\n",
    "df_类别= \\\n",
    "all_sku_goods_obj.load_data_all_sku_PublicPath(in_file5)"
   ]
  },
  {
   "cell_type": "code",
   "execution_count": 6,
   "id": "6a49310b",
   "metadata": {},
   "outputs": [
    {
     "name": "stdout",
     "output_type": "stream",
     "text": [
      "Index(['开始时间', '结束时间', '省级公司名称', '模块编码', '模块名称', '品类编码', '品类名称', '大类编码',\n",
      "       '大类名称', '中类编码', '中类名称', '小类编码', '小类名称', '商品编码', '商品条码', '商品名称', '销售单位',\n",
      "       '品牌名称', '供应商业务码', '供应商名称', '渠道', '子渠道合计', '平台合计', '销售金额', '销售数量',\n",
      "       '销售净额(折前)', '销售净额', '销售成本', '折扣净额', '补差', '生鲜损耗', '毛利额'],\n",
      "      dtype='object')\n",
      "Index(['日期', '省级公司名称', '业态名称', '采购管理区域名称', '营运区域', '新旧店标识', '门店编码', '门店DC名称',\n",
      "       '供应商业务码', '供应商名称', '部门名称', '大类编码', '大类名称', '小类编码', '小类名称', '商品编码',\n",
      "       '商品条码', '商品名称', '品牌名称', '渠道', '平台', '销项税率', '券类型编码', '券类型名称', '券号',\n",
      "       '优惠类型', '小优惠类型', '用券总金额（去税）', '平台承担金额（去税）', '供应商承担金额（去税）',\n",
      "       '万家承担金额（去税）'],\n",
      "      dtype='object')\n"
     ]
    }
   ],
   "source": [
    "print(df_原始销售_all.columns)\n",
    "print(df_原始券_all.columns)"
   ]
  },
  {
   "cell_type": "code",
   "execution_count": 7,
   "id": "929702fb",
   "metadata": {},
   "outputs": [
    {
     "name": "stdout",
     "output_type": "stream",
     "text": [
      "df字段梳理完成！\n"
     ]
    }
   ],
   "source": [
    "##################梳理销售df的字段\n",
    "sale_columns_list=[  '大类编码',\n",
    "       '大类名称', '中类编码', '中类名称', '小类编码', '小类名称', '商品编码','供应商业务码', '渠道', '销售金额', '销售数量',\n",
    "       '销售净额', '销售成本', '折扣净额', '补差', '生鲜损耗', '毛利额']\n",
    "#选择字段\n",
    "df_销售=df_原始销售_all.loc[:,sale_columns_list]\n",
    "#批量修改dataframe的字段名称\n",
    "sale_columns_name=[ '大类编码',\n",
    "       '大类名称', '中类编码', '中类名称', '小类编码', '小类名称', '商品编码','供应商业务码', '渠道', '销售金额', '销售数量',\n",
    "       '销售净额', '销售成本', '折扣净额', '补差', '生鲜损耗', '销售毛利额']\n",
    "df_销售.columns=sale_columns_name\n",
    "\n",
    "###################梳理券df的字段\n",
    "coupon_columns_list=[ '渠道', '大类编码','商品编码', '供应商业务码', '用券总金额（去税）', '供应商承担金额（去税）', '平台承担金额（去税）', '万家承担金额（去税）']\n",
    "#选择字段\n",
    "df_券=df_原始券_all.loc[:,coupon_columns_list]\n",
    "\n",
    "#批量修改dataframe的字段名称\n",
    "#coupon_columns_name=[ '渠道', '大类编码','总用券金额', '供应商承担金额', '平台承担金额', '万家承担金额']\n",
    "#df_券.columns=coupon_columns_name\n",
    "\n",
    "print('df字段梳理完成！')\n"
   ]
  },
  {
   "cell_type": "markdown",
   "id": "90229e91",
   "metadata": {},
   "source": [
    "# 2）计算数据"
   ]
  },
  {
   "cell_type": "code",
   "execution_count": 8,
   "id": "880b4daf",
   "metadata": {},
   "outputs": [
    {
     "name": "stdout",
     "output_type": "stream",
     "text": [
      "all sku的销售数据与券数据合并完成\n",
      "销售净额    2.202665e+08\n",
      "dtype: float64\n",
      "销售净额    2.202665e+08\n",
      "dtype: float64\n",
      "万家承担金额（去税）    1.076276e+07\n",
      "dtype: float64\n"
     ]
    }
   ],
   "source": [
    "########计算########\n",
    "#合并sku的销售数据与券数据\n",
    "df_sale_coupons=all_sku_goods_obj.sale_coupons_join_all_sku(df_销售,df_券)"
   ]
  },
  {
   "cell_type": "code",
   "execution_count": 9,
   "id": "2a17a9cc",
   "metadata": {},
   "outputs": [],
   "source": [
    "#创建商品sku主档数据\n",
    "df_商品主档=all_sku_goods_obj.create_sku_master_data(df_原始销售_all,df_原始券_all)"
   ]
  },
  {
   "cell_type": "code",
   "execution_count": 10,
   "id": "7ba5327d",
   "metadata": {},
   "outputs": [],
   "source": [
    "#创建供应商主档数据\n",
    "df_供应商主档=all_sku_goods_obj.create_supplier_master_data(df_原始销售_all,df_原始券_all)"
   ]
  },
  {
   "cell_type": "markdown",
   "id": "fc4ca598",
   "metadata": {},
   "source": [
    "# 精加工，导出到mysql"
   ]
  },
  {
   "cell_type": "code",
   "execution_count": 11,
   "id": "0fd2bc4b",
   "metadata": {},
   "outputs": [
    {
     "name": "stdout",
     "output_type": "stream",
     "text": [
      "精加工 dataframe over\n",
      "精加工供应商 over\n"
     ]
    }
   ],
   "source": [
    "#精加工大类与单品输出的DF\n",
    "df_out2=all_sku_goods_obj.finish_machining_outfile_all_sku(df_sale_coupons,df_商品主档,df_类别)\n",
    "\n",
    "#精加工供应商输出的DF\n",
    "df_out3=all_sku_goods_obj.finish_machining_outfile_supplier(df_out2,df_供应商主档)"
   ]
  },
  {
   "cell_type": "code",
   "execution_count": 12,
   "id": "a6144ef0",
   "metadata": {},
   "outputs": [
    {
     "name": "stdout",
     "output_type": "stream",
     "text": [
      "all sku input mysql\n"
     ]
    }
   ],
   "source": [
    "#将结果落库mysql\n",
    "#落库的table\n",
    "in_table1='all_sku_sale_coupons' + date_Range\n",
    "all_sku_goods_obj.input_mysql_all_sku(df_out3,in_table1)\n"
   ]
  }
 ],
 "metadata": {
  "kernelspec": {
   "display_name": "Python 3",
   "language": "python",
   "name": "python3"
  },
  "language_info": {
   "codemirror_mode": {
    "name": "ipython",
    "version": 3
   },
   "file_extension": ".py",
   "mimetype": "text/x-python",
   "name": "python",
   "nbconvert_exporter": "python",
   "pygments_lexer": "ipython3",
   "version": "3.8.8"
  },
  "toc": {
   "base_numbering": 1,
   "nav_menu": {},
   "number_sections": true,
   "sideBar": true,
   "skip_h1_title": false,
   "title_cell": "Table of Contents",
   "title_sidebar": "Contents",
   "toc_cell": false,
   "toc_position": {},
   "toc_section_display": true,
   "toc_window_display": false
  },
  "vp": {
   "vp_config_version": "1.0.0",
   "vp_menu_width": 273,
   "vp_note_display": false,
   "vp_note_width": 0,
   "vp_position": {
    "width": 278
   },
   "vp_section_display": false,
   "vp_signature": "VisualPython"
  }
 },
 "nbformat": 4,
 "nbformat_minor": 5
}
