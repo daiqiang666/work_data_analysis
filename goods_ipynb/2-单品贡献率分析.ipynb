{
 "cells": [
  {
   "cell_type": "markdown",
   "id": "e442069f",
   "metadata": {},
   "source": [
    "#  1）建立对象与导入原始数据"
   ]
  },
  {
   "cell_type": "code",
   "execution_count": 1,
   "id": "85335c78",
   "metadata": {},
   "outputs": [],
   "source": [
    "######建立对象\n",
    "import sys\n",
    "sys.path.append('E:\\\\python-dq\\\\py\\\\work')\n",
    "import imp\n",
    "\n",
    "import dq_work.goods.goods_1 as goods\n",
    "\n",
    "\n",
    "imp.reload(goods)#再次引入模块，默认只有一次，调试程序时有用\n",
    "\n",
    "#建立对象\n",
    "###建立对象的相关参数变量\n",
    "\n",
    "company='上海'\n",
    "date_Range='202207'\n",
    "date_Range_all='20220701-0731'\n",
    "in_file_path='e:/python-dq/work_data/goods_data/in/'\n",
    "out_file_path='e:/python-dq/work_data/goods_data/out/'\n",
    "public_path='e:/python-dq/work_data/public_data/out/'\n",
    "\n",
    "all_sku_goods_obj=goods.all_sku_goods(company,date_Range,date_Range_all,in_file_path,out_file_path,public_path)\n"
   ]
  },
  {
   "cell_type": "code",
   "execution_count": 2,
   "id": "78c1691a",
   "metadata": {},
   "outputs": [
    {
     "name": "stdout",
     "output_type": "stream",
     "text": [
      "导入all sku 原始数据 over\n"
     ]
    }
   ],
   "source": [
    "#导入原始数据\n",
    "#需要准备的导入文件清单\n",
    "######################################\n",
    "\n",
    "in_file1='03_业务报表-销售报表-销售-'+company+ '-'+date_Range_all+'.csv'\n",
    "in_file2='01-用劵分摊-商品层级-原版-'+company+ '-all-'+date_Range_all+'.csv'\n",
    "in_file3='A-分析-门店基础资料-'+company+'.csv'\n",
    "in_file4='采购收入_'+company+ '_'+date_Range_all+'.csv'\n",
    "in_file5='B-分析-品类基础资料.csv'\n",
    "######################################\n",
    "\n",
    "df_原始销售_all,df_原始用券_all,df_采购收入原始数据,df_类别,df_商品主档= \\\n",
    "all_sku_goods_obj.load_data_all_sku(in_file1,in_file2,in_file3,in_file4,in_file5)\n"
   ]
  },
  {
   "cell_type": "markdown",
   "id": "90229e91",
   "metadata": {},
   "source": [
    "# 2）计算销售类数据"
   ]
  },
  {
   "cell_type": "code",
   "execution_count": 3,
   "id": "880b4daf",
   "metadata": {},
   "outputs": [
    {
     "name": "stdout",
     "output_type": "stream",
     "text": [
      "all sku的销售数据与券数据合并完成\n",
      "销售净额    1.125489e+08\n",
      "dtype: float64\n",
      "销售净额    1.125489e+08\n",
      "dtype: float64\n",
      "万家承担金额（去税）    7.308988e+06\n",
      "dtype: float64\n"
     ]
    }
   ],
   "source": [
    "########计算########\n",
    "#合并sku的销售数据与券数据\n",
    "df_sale_coupons=all_sku_goods_obj.sale_coupons_join_all_sku(df_原始销售_all,df_原始用券_all)"
   ]
  },
  {
   "cell_type": "code",
   "execution_count": 4,
   "id": "f535d045",
   "metadata": {},
   "outputs": [
    {
     "name": "stdout",
     "output_type": "stream",
     "text": [
      "金额    6154987.87\n",
      "dtype: float64\n",
      "OI分摊金额    6317209.46\n",
      "dtype: float64\n",
      "OI分摊金额   -162221.59\n",
      "dtype: float64\n",
      "all sku 的OI 分摊计算完成\n"
     ]
    }
   ],
   "source": [
    "#正数销售参与oi分摊\n",
    "bool_1=df_原始销售_all['销售净额'] > 0\n",
    "df_原始销售_all_正销售=df_原始销售_all.loc[bool_1]\n",
    "##分摊oi\n",
    "df_oi1,df_oi2=all_sku_goods_obj.all_sku_oi_share(df_原始销售_all_正销售,df_采购收入原始数据)\n",
    "df_oi3=df_oi1.append(df_oi2)"
   ]
  },
  {
   "cell_type": "code",
   "execution_count": 5,
   "id": "540e462f",
   "metadata": {},
   "outputs": [
    {
     "name": "stdout",
     "output_type": "stream",
     "text": [
      "df合并处理finish\n",
      "OI分摊金额    6154987.87\n",
      "dtype: float64\n",
      "销售净额    1.125489e+08\n",
      "dtype: float64\n"
     ]
    }
   ],
   "source": [
    "#合并处理销售、券、oi并输出结果df\n",
    "df_all1=all_sku_goods_obj.all_sku_merge_out_df(df_sale_coupons,df_oi3)\n",
    "\n",
    "print(df_all1.loc[:,['OI分摊金额']].sum())  \n",
    "print(df_all1.loc[:,['销售净额']].sum()) \n",
    "\n",
    "\n"
   ]
  },
  {
   "cell_type": "markdown",
   "id": "9f85284c",
   "metadata": {},
   "source": [
    "# 3）库存周转相关数据计算"
   ]
  },
  {
   "cell_type": "code",
   "execution_count": 6,
   "id": "82f7e1c8",
   "metadata": {},
   "outputs": [
    {
     "name": "stdout",
     "output_type": "stream",
     "text": [
      "导入原始库存数据 over\n",
      "库存金额    6.113569e+09\n",
      "dtype: float64\n"
     ]
    }
   ],
   "source": [
    "#导入原始数据\n",
    "#需要准备的导入文件清单\n",
    "######################################\n",
    "in_file1='03_业务报表-销售报表-库存-'+company+ '-'+date_Range_all+'.csv'\n",
    "######################################\n",
    "\n",
    "df_原始库存= \\\n",
    "all_sku_goods_obj.load_data_stock_all_sku(in_file1)\n"
   ]
  },
  {
   "cell_type": "code",
   "execution_count": 7,
   "id": "d002bb8f",
   "metadata": {},
   "outputs": [
    {
     "name": "stdout",
     "output_type": "stream",
     "text": [
      "库存计算finish\n"
     ]
    }
   ],
   "source": [
    "########计算########\n",
    "#计算库存数据\n",
    "df_stock1=all_sku_goods_obj.stock_compute_all_sku(df_原始库存)\n"
   ]
  },
  {
   "cell_type": "markdown",
   "id": "fc4ca598",
   "metadata": {},
   "source": [
    "# 4）销售与库存合并，导出到mysql"
   ]
  },
  {
   "cell_type": "code",
   "execution_count": 9,
   "id": "0fd2bc4b",
   "metadata": {},
   "outputs": [
    {
     "name": "stdout",
     "output_type": "stream",
     "text": [
      "销售与库存合并处理finish\n",
      "精加工 dataframe over\n"
     ]
    }
   ],
   "source": [
    "#销售df与库存df的合并\n",
    "###销售df，去上述的精加工后的销售毛利df--df_out\n",
    "df_sale_stock=all_sku_goods_obj.merge_sale_stock_all_sku(df_all1,df_stock1)\n",
    "\n",
    "#添加库存原始数据中的sku主档信息\n",
    "#df_商品主档_stock=goods_obj.create_sku_master_data_stock(df_商品主档,df_原始库存)\n",
    "#精加工输出的DF\n",
    "df_out2=all_sku_goods_obj.finish_machining_outfile_all_sku(df_sale_stock,df_商品主档,df_类别)"
   ]
  },
  {
   "cell_type": "code",
   "execution_count": 19,
   "id": "a6144ef0",
   "metadata": {},
   "outputs": [
    {
     "name": "stdout",
     "output_type": "stream",
     "text": [
      "all sku input mysql\n"
     ]
    }
   ],
   "source": [
    "#将结果落库mysql\n",
    "#落库的table\n",
    "in_table1='all_sku_' + date_Range\n",
    "all_sku_goods_obj.input_mysql_all_sku(df_out2,in_table1)\n"
   ]
  },
  {
   "cell_type": "markdown",
   "id": "dbd8dddf",
   "metadata": {},
   "source": [
    "# 5) 过滤掉异常的goods单品"
   ]
  },
  {
   "cell_type": "code",
   "execution_count": 19,
   "id": "2ebd6f15",
   "metadata": {},
   "outputs": [
    {
     "name": "stdout",
     "output_type": "stream",
     "text": [
      "异常数据计算 finish，返回df\n",
      "异常数据计算 finish，返回df\n",
      "异常数据计算 finish，返回df\n"
     ]
    }
   ],
   "source": [
    "#选择正库存\n",
    "bool_2=df_out2['库存金额'] > 0\n",
    "df_out2_正库存=df_out2.loc[bool_2]\n",
    "#过滤掉异常goods\n",
    "df_anormal_毛利率=all_sku_goods_obj.find_anormal(df_out2_正库存,'总毛利率')\n",
    "df_anormal_周转=all_sku_goods_obj.find_anormal(df_out2_正库存,'年周转次数')\n",
    "df_anormal_销售净额=all_sku_goods_obj.find_anormal(df_out2_正库存,'销售净额')\n",
    "\n",
    "#过滤掉负库存\n",
    "bool_3=df_out2['库存金额'] < 0\n",
    "df_out2_负库存=df_out2.loc[bool_3]\n",
    "\n",
    "#合并异常的df\n",
    "df_anormal_1=df_anormal_毛利率.loc[:,[ '商品编码']]\n",
    "df_anormal_2=df_anormal_周转.loc[:,[ '商品编码']]\n",
    "df_anormal_3=df_out2_负库存.loc[:,[ '商品编码']]\n",
    "df_anormal_4=df_anormal_销售净额.loc[:,[ '商品编码']]\n",
    "df_anormal =df_anormal_1.append([df_anormal_2,df_anormal_3,df_anormal_4])\n",
    "df_anormal.drop_duplicates(subset = ['商品编码'],keep='first',inplace=True)\n",
    "\n",
    "\n"
   ]
  },
  {
   "cell_type": "code",
   "execution_count": 20,
   "id": "369f4d83",
   "metadata": {},
   "outputs": [
    {
     "name": "stdout",
     "output_type": "stream",
     "text": [
      "all sku input mysql\n"
     ]
    }
   ],
   "source": [
    "#将anormalde goods结果落库mysql\n",
    "#落库的table\n",
    "in_table2='all_sku_anormal' + date_Range\n",
    "all_sku_goods_obj.input_mysql_all_sku(df_anormal,in_table2)"
   ]
  },
  {
   "cell_type": "markdown",
   "id": "0b6e1fe5",
   "metadata": {},
   "source": [
    "# 单品贡献率计算over"
   ]
  },
  {
   "cell_type": "markdown",
   "id": "2476ab24",
   "metadata": {},
   "source": [
    "# 6）将sku对应供应商的数据落库mysql"
   ]
  },
  {
   "cell_type": "code",
   "execution_count": 13,
   "id": "37b0c469",
   "metadata": {},
   "outputs": [],
   "source": [
    "import pandas as pd\n",
    "# 获得sku对应供应商编码与名称\n",
    "df_原始销售_all.columns\n",
    "\n",
    "g_sku_supplier =df_原始销售_all.groupby(['商品编码','供应商编码','供应商名称'])\n",
    "df_sku_supplier_xs=pd.DataFrame(g_sku_supplier[['销售净额']].sum())\n",
    "df_sku_supplier_xs.reset_index(inplace=True)\n",
    "\n",
    "xz_idx =df_sku_supplier_xs.groupby(['商品编码'])['销售净额'].idxmax()\n",
    "\n",
    "df_sku_supplier=df_sku_supplier_xs.loc[xz_idx]\n",
    "df_sku_supplier.drop_duplicates(subset = ['商品编码'],keep='first',inplace=True)"
   ]
  },
  {
   "cell_type": "code",
   "execution_count": 14,
   "id": "7b3f6e88",
   "metadata": {},
   "outputs": [
    {
     "name": "stdout",
     "output_type": "stream",
     "text": [
      "all sku input mysql\n"
     ]
    }
   ],
   "source": [
    "#将sku的对应供应商编码名称结果落库mysql\n",
    "#落库的table\n",
    "in_table3='sku_supplier' + date_Range\n",
    "all_sku_goods_obj.input_mysql_all_sku(df_sku_supplier,in_table3)"
   ]
  },
  {
   "cell_type": "code",
   "execution_count": null,
   "id": "fbf99a55",
   "metadata": {},
   "outputs": [],
   "source": []
  }
 ],
 "metadata": {
  "kernelspec": {
   "display_name": "Python 3",
   "language": "python",
   "name": "python3"
  },
  "language_info": {
   "codemirror_mode": {
    "name": "ipython",
    "version": 3
   },
   "file_extension": ".py",
   "mimetype": "text/x-python",
   "name": "python",
   "nbconvert_exporter": "python",
   "pygments_lexer": "ipython3",
   "version": "3.8.8"
  },
  "toc": {
   "base_numbering": 1,
   "nav_menu": {},
   "number_sections": true,
   "sideBar": true,
   "skip_h1_title": false,
   "title_cell": "Table of Contents",
   "title_sidebar": "Contents",
   "toc_cell": false,
   "toc_position": {},
   "toc_section_display": true,
   "toc_window_display": false
  },
  "vp": {
   "vp_config_version": "1.0.0",
   "vp_menu_width": 273,
   "vp_note_display": false,
   "vp_note_width": 0,
   "vp_position": {
    "width": 278
   },
   "vp_section_display": false,
   "vp_signature": "VisualPython"
  }
 },
 "nbformat": 4,
 "nbformat_minor": 5
}
