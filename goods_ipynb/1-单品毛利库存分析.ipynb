{
 "cells": [
  {
   "cell_type": "markdown",
   "id": "e442069f",
   "metadata": {},
   "source": [
    "#  建立对象与导入原始数据"
   ]
  },
  {
   "cell_type": "code",
   "execution_count": 1,
   "id": "85335c78",
   "metadata": {},
   "outputs": [],
   "source": [
    "######建立对象\n",
    "import sys\n",
    "sys.path.append('E:\\\\python-dq\\\\py\\\\work')\n",
    "import imp\n",
    "\n",
    "import dq_work.goods.goods_1 as goods\n",
    "\n",
    "\n",
    "imp.reload(goods)#再次引入模块，默认只有一次，调试程序时有用\n",
    "\n",
    "#建立对象\n",
    "###建立对象的相关参数变量\n",
    "\n",
    "company='浙江'\n",
    "#date_Range='202207'\n",
    "#date_Range_all='20220701-0731'\n",
    "date_Range='2022'\n",
    "date_Range_all='2022'\n",
    "in_file_path='e:/python-dq/work_data/goods_data/in/'\n",
    "out_file_path='e:/python-dq/work_data/goods_data/out/'\n",
    "public_path='e:/python-dq/work_data/public_data/out/'\n",
    "\n",
    "goods_obj=goods.goods(company,date_Range,date_Range_all,in_file_path,out_file_path,public_path)\n"
   ]
  },
  {
   "cell_type": "code",
   "execution_count": 2,
   "id": "78c1691a",
   "metadata": {},
   "outputs": [
    {
     "name": "stdout",
     "output_type": "stream",
     "text": [
      "导入原始数据 over\n"
     ]
    }
   ],
   "source": [
    "#导入原始数据\n",
    "#需要准备的导入文件清单\n",
    "######################################\n",
    "\n",
    "in_file1='03_业务报表-销售报表-销售-Partial-data-'+company+ '-'+date_Range_all+'.csv'\n",
    "in_file2='01-用劵分摊-商品层级-原版-Partial-data-'+company+ '-'+date_Range_all+'.csv'\n",
    "in_file3='A-分析-门店基础资料-'+company+'.csv'\n",
    "in_file4='采购收入-'+company+ '-'+date_Range_all+'.csv'\n",
    "in_file5='B-分析-品类基础资料.csv'\n",
    "######################################\n",
    "\n",
    "df_原始销售_Partial,df_原始用券_Partial,df_门店_主档,df_采购收入原始数据,df_类别,df_商品主档= \\\n",
    "goods_obj.load_data(in_file1,in_file2,in_file3,in_file4,in_file5)\n"
   ]
  },
  {
   "cell_type": "markdown",
   "id": "90229e91",
   "metadata": {},
   "source": [
    "# 计算"
   ]
  },
  {
   "cell_type": "code",
   "execution_count": 3,
   "id": "880b4daf",
   "metadata": {},
   "outputs": [
    {
     "name": "stdout",
     "output_type": "stream",
     "text": [
      "单店单品的销售数据与券数据合并完成\n",
      "销售净额    3.081705e+08\n",
      "dtype: float64\n",
      "万家承担金额（去税）    1.748683e+07\n",
      "dtype: float64\n"
     ]
    }
   ],
   "source": [
    "########计算1########\n",
    "#合并选择的部分sku的销售数据与券数据\n",
    "df_sale_coupons=goods_obj.sale_coupons_join(df_原始销售_Partial,df_原始用券_Partial)"
   ]
  },
  {
   "cell_type": "code",
   "execution_count": 4,
   "id": "0574d26d",
   "metadata": {},
   "outputs": [],
   "source": [
    "########计算2########\n",
    "#返回所选择的sku的反馈\n",
    "df_goods_range=goods_obj.filter_goods_range(df_sale_coupons)\n"
   ]
  },
  {
   "cell_type": "code",
   "execution_count": 7,
   "id": "b5cd3775",
   "metadata": {},
   "outputs": [
    {
     "name": "stdout",
     "output_type": "stream",
     "text": [
      "导入原始数据 over\n",
      "金额    471565756.2\n",
      "dtype: float64\n",
      "完整的OI在大类加门店字段上分摊计算完成\n"
     ]
    }
   ],
   "source": [
    "########计算3########\n",
    "#分摊完整的OI，到大类与门店较粗的层级\n",
    "\n",
    "import dq_work.whole.whole_1 as whole\n",
    "\n",
    "\n",
    "imp.reload(whole)#再次引入模块，默认只有一次，调试程序时有用\n",
    "\n",
    "#建立对象\n",
    "###建立对象的相关参数变量\n",
    "\n",
    "#company='浙江'\n",
    "#date_Range='202207'\n",
    "#date_Range_all='20220701-0731'\n",
    "in_file_path='e:/python-dq/work_data/whole_data/in/'\n",
    "out_file_path='e:/python-dq/work_data/whole_data/out/'\n",
    "public_path='e:/python-dq/work_data/public_data/out/'\n",
    "\n",
    "whole_obj=whole.whole(company,date_Range,date_Range_all,in_file_path,out_file_path,public_path)\n",
    "\n",
    "#导入原始数据\n",
    "#需要准备的导入文件清单\n",
    "######################################\n",
    "\n",
    "in_file1='03_业务报表-销售报表-大类-供应商-门店-'+company+ '-'+date_Range_all+'.csv'\n",
    "#券是到单品级的原始数据\n",
    "#in_file2='01-用劵分摊-商品层级-原版-'+company+ '-all-'+date_Range_all+'.csv'\n",
    "#券是大类层级的原始数据\n",
    "in_file2='02-用券分摊-大类层级-数据表-'+company+ '-'+date_Range_all+'.csv'\n",
    "\n",
    "in_file3='A-分析-门店基础资料-'+company+'.csv'\n",
    "in_file4='采购收入-'+company+ '-'+date_Range_all+'.csv'\n",
    "in_file5='B-分析-品类基础资料.csv'\n",
    "######################################\n",
    "\n",
    "df_原始销售_all,df_原始用券_all,df_门店_主档,df_采购收入原始数据,df_类别= \\\n",
    "whole_obj.load_data(in_file1,in_file2,in_file3,in_file4,in_file5)\n",
    "\n",
    "\n",
    "#分摊完整的oi\n",
    "\n",
    "df_oi1,df_oi2=whole_obj.shop_category_oi_share(df_原始销售_all,df_采购收入原始数据,df_类别)\n",
    "df_oi3=df_oi1.append(df_oi2)\n",
    "\n"
   ]
  },
  {
   "cell_type": "code",
   "execution_count": 8,
   "id": "7bc3b300",
   "metadata": {},
   "outputs": [],
   "source": [
    "########计算2-1########\n",
    "#增加df_oi3中的、属于3101的门店与渠道的范围\n",
    "bool_ls1= df_oi3['大类编码']==3101\n",
    "df_oi_ls=df_oi3[bool_ls1]\n",
    "df_goods_range2=goods_obj.filter_goods_range(df_oi_ls)\n",
    "df_goods_range3=df_goods_range.append(df_goods_range2)\n",
    "\n",
    "df_goods_range3.drop_duplicates(subset = ['大类编码','门店DC编码','渠道'],keep='first',inplace=True)\n"
   ]
  },
  {
   "cell_type": "code",
   "execution_count": 9,
   "id": "6fadf586",
   "metadata": {},
   "outputs": [
    {
     "name": "stdout",
     "output_type": "stream",
     "text": [
      "OI分摊金额    23400509.07\n",
      "dtype: float64\n",
      "到单店单品的OI 分摊计算完成\n"
     ]
    }
   ],
   "source": [
    "########计算4########\n",
    "#分摊OI，到所选择的单品层级\n",
    "\n",
    "###过滤符合选择sku范围内的OI\n",
    "import pandas as pd\n",
    "df_tmp_ceshi=pd.merge(df_goods_range3,df_oi3,on=['大类编码','门店DC编码','渠道'],how='right')\n",
    "bool_ce= df_tmp_ceshi['pd'].isnull()\n",
    "df_oi4=df_tmp_ceshi[~bool_ce]\n",
    "\n",
    "###根据选择的部分范围的销售数据，分摊oi到单店单品\n",
    "df_oi=goods_obj.partial_shop_sku_oi_share(df_原始销售_Partial,df_oi4,df_类别)"
   ]
  },
  {
   "cell_type": "code",
   "execution_count": 10,
   "id": "40017e6d",
   "metadata": {},
   "outputs": [
    {
     "name": "stdout",
     "output_type": "stream",
     "text": [
      "df合并处理finish\n",
      "精加工 dataframe over\n"
     ]
    }
   ],
   "source": [
    "import numpy as np\n",
    "#合并处理销售、券、oi并输出结果df\n",
    "df_all1=goods_obj.partial_merge_out_df(df_sale_coupons,df_oi)\n",
    "\n",
    "#精加工输出的DF\n",
    "df_out=goods_obj.finish_machining_outfile(df_all1,df_商品主档,df_类别,df_门店_主档)\n",
    "\n",
    "df_out.fillna(0,inplace=True)\n",
    "df_out = df_out.replace([np.inf, -np.inf],0)\n",
    "\n",
    "\n"
   ]
  },
  {
   "cell_type": "markdown",
   "id": "2896569e",
   "metadata": {},
   "source": [
    "# 导出文件"
   ]
  },
  {
   "cell_type": "code",
   "execution_count": 61,
   "id": "76d6f7d7",
   "metadata": {},
   "outputs": [
    {
     "name": "stdout",
     "output_type": "stream",
     "text": [
      "单店单品的销售数据的excel文件导出 over\n"
     ]
    },
    {
     "name": "stderr",
     "output_type": "stream",
     "text": [
      "C:\\Users\\daiqiang\\anaconda3\\lib\\site-packages\\xlsxwriter\\workbook.py:336: UserWarning: Calling close() on already closed file.\n",
      "  warn(\"Calling close() on already closed file.\")\n"
     ]
    }
   ],
   "source": [
    "#输出单店单品的销售df到外面的文件中\n",
    "goods_obj.put_outfile(df_out)"
   ]
  },
  {
   "cell_type": "code",
   "execution_count": 11,
   "id": "75f8c1e8",
   "metadata": {},
   "outputs": [
    {
     "name": "stdout",
     "output_type": "stream",
     "text": [
      "input mysql\n"
     ]
    },
    {
     "name": "stderr",
     "output_type": "stream",
     "text": [
      "C:\\Users\\daiqiang\\anaconda3\\lib\\site-packages\\pandas\\io\\sql.py:1444: UserWarning: The provided table name 'Partial_goods2022' is not found exactly as such in the database after writing the table, possibly due to case sensitivity issues. Consider using lower case table names.\n",
      "  warnings.warn(msg, UserWarning)\n"
     ]
    }
   ],
   "source": [
    "#将sku的对应供应商编码名称结果落库mysql\n",
    "#落库的table\n",
    "\n",
    "in_table='Partial_goods' + date_Range\n",
    "goods_obj.input_mysql(df_out,in_table)"
   ]
  },
  {
   "cell_type": "markdown",
   "id": "9f85284c",
   "metadata": {},
   "source": [
    "# 添加单品的库存周转相关字段"
   ]
  },
  {
   "cell_type": "code",
   "execution_count": 41,
   "id": "82f7e1c8",
   "metadata": {},
   "outputs": [
    {
     "name": "stdout",
     "output_type": "stream",
     "text": [
      "导入原始库存数据 over\n",
      "库存金额    1.310402e+10\n",
      "dtype: float64\n"
     ]
    }
   ],
   "source": [
    "#导入单店单品库存的原始数据\n",
    "#需要准备的导入文件清单\n",
    "######################################\n",
    "in_file1='03_业务报表-销售报表-库存-Partial-data-'+company+ '-'+date_Range_all+'.csv'\n",
    "######################################\n",
    "\n",
    "df_原始库存= \\\n",
    "goods_obj.load_data_stock(in_file1)\n"
   ]
  },
  {
   "cell_type": "code",
   "execution_count": 45,
   "id": "d002bb8f",
   "metadata": {},
   "outputs": [
    {
     "name": "stdout",
     "output_type": "stream",
     "text": [
      "单店单品库存计算finish\n",
      "单店单品的销售与库存合并处理finish\n"
     ]
    }
   ],
   "source": [
    "########计算########\n",
    "#计算库存数据\n",
    "df_stock1=goods_obj.stock_compute(df_原始库存)\n",
    "\n",
    "#销售df与库存df的合并\n",
    "###销售df，去上述的精加工后的销售毛利df--df_out\n",
    "df_sale_stock1=goods_obj.merge_sale_stock(365,df_out,df_stock1)\n",
    "\n"
   ]
  },
  {
   "cell_type": "code",
   "execution_count": 46,
   "id": "6a731fb6",
   "metadata": {},
   "outputs": [
    {
     "name": "stdout",
     "output_type": "stream",
     "text": [
      "精加工 dataframe over\n"
     ]
    }
   ],
   "source": [
    "#添加库存原始数据中的sku主档信息\n",
    "df_商品主档_stock=goods_obj.create_sku_master_data_stock(df_商品主档,df_原始库存)\n",
    "#精加工输出的DF\n",
    "df_out2=goods_obj.finish_machining_outfile(df_sale_stock1,df_商品主档_stock,df_类别,df_门店_主档)"
   ]
  },
  {
   "cell_type": "code",
   "execution_count": 47,
   "id": "b86a2597",
   "metadata": {},
   "outputs": [
    {
     "name": "stdout",
     "output_type": "stream",
     "text": [
      "单店单品的销售毛利库存数据的excel文件导出 over\n"
     ]
    }
   ],
   "source": [
    "#输出单店单品的销售毛利与库存df到外面的文件中\n",
    "goods_obj.put_outfile_stock(df_out2)"
   ]
  },
  {
   "cell_type": "markdown",
   "id": "3ac641ea",
   "metadata": {},
   "source": [
    "# 下述保留，用于暂无用的历史保留之用"
   ]
  },
  {
   "cell_type": "markdown",
   "id": "3833ca8b",
   "metadata": {},
   "source": [
    "### 1-针对选择了模块编码的部分数据的goods分析"
   ]
  },
  {
   "cell_type": "code",
   "execution_count": 3,
   "id": "60fea15e",
   "metadata": {},
   "outputs": [
    {
     "name": "stdout",
     "output_type": "stream",
     "text": [
      "单店单品的销售数据与券数据合并完成\n",
      "销售净额    2.279540e+07\n",
      "dtype: float64\n",
      "万家承担金额（去税）    1.627828e+06\n",
      "dtype: float64\n",
      "金额    1404808.65\n",
      "dtype: float64\n",
      "到单店单品的OI 分摊计算完成\n",
      "df合并处理finish\n",
      "精加工 dataframe over\n"
     ]
    }
   ],
   "source": [
    "########计算########\n",
    "#合并销售数据与券数据\n",
    "df_sale_coupons=goods_obj.sale_coupons_join(df_原始销售,df_原始用券)\n",
    "\n",
    "#分摊oi\n",
    "######模块编码的选择\n",
    "model_bm=24\n",
    "df_oi1,df_oi2=goods_obj.model_shop_sku_oi_share(df_原始销售,df_采购收入原始数据,df_类别,model_bm)\n",
    "\n",
    "#合并处理销售、券、oi并输出结果df\n",
    "df_all1=goods_obj.merge_out_df(df_sale_coupons,df_oi1,df_oi2)\n",
    "\n",
    "#精加工输出的DF\n",
    "df_out=goods_obj.finish_machining_outfile(df_all1,df_商品主档,df_类别,df_门店_主档)\n"
   ]
  },
  {
   "cell_type": "markdown",
   "id": "899de399",
   "metadata": {},
   "source": [
    "### 0r 3-选择销售渠道的goods的分析"
   ]
  },
  {
   "cell_type": "code",
   "execution_count": 76,
   "id": "258c85a2",
   "metadata": {},
   "outputs": [
    {
     "name": "stdout",
     "output_type": "stream",
     "text": [
      "单店单品的销售数据与券数据合并完成\n",
      "销售净额    3.516691e+07\n",
      "dtype: float64\n",
      "万家承担金额（去税）    5.231305e+06\n",
      "dtype: float64\n",
      "导入原始数据 over\n",
      "金额    6154987.87\n",
      "dtype: float64\n",
      "OI 分摊计算完成\n",
      "OI分摊金额    1.485852e+06\n",
      "dtype: float64\n",
      "到单店单品的OI 分摊计算完成\n",
      "df合并处理finish\n",
      "精加工 dataframe over\n"
     ]
    }
   ],
   "source": [
    "########计算########\n",
    "#合并销售数据与券数据\n",
    "df_sale_coupons=goods_obj.sale_coupons_join(df_原始销售,df_原始用券)\n",
    "\n",
    "\n",
    "#######################以大类完整数据，准备完整的oi分摊的数据######################################\n",
    "#建立对象\n",
    "import sys\n",
    "sys.path.append('E:\\\\python-dq\\\\py\\\\work')\n",
    "import imp\n",
    "\n",
    "import dq_work.whole.whole_1 as whole\n",
    "\n",
    "\n",
    "imp.reload(whole)#再次引入模块，默认只有一次，调试程序时有用\n",
    "\n",
    "###建立对象的相关参数变量\n",
    "\n",
    "company='上海'\n",
    "date_Range='202207'\n",
    "date_Range_all='20220701-0731'\n",
    "in_file_path='e:/python-dq/work_data/whole_data/in/'\n",
    "out_file_path='e:/python-dq/work_data/whole_data/out/'\n",
    "public_path='e:/python-dq/work_data/public_data/out/'\n",
    "\n",
    "whole_obj=whole.whole(company,date_Range,date_Range_all,in_file_path,out_file_path,public_path)\n",
    "\n",
    "#导入原始数据\n",
    "#需要准备的导入文件清单\n",
    "\n",
    "\n",
    "in_file1='03_业务报表-销售报表-大类-供应商-门店-'+company+ '-'+date_Range_all+'.csv'\n",
    "in_file2='01-用劵分摊-商品层级-原版-'+company+ '-all-'+date_Range_all+'.csv'\n",
    "in_file3='A-分析-门店基础资料-'+company+'.csv'\n",
    "in_file4='采购收入_'+company+ '_'+date_Range_all+'.csv'\n",
    "in_file5='B-分析-品类基础资料.csv'\n",
    "\n",
    "\n",
    "df_原始销售1,df_原始用券1,df_门店_主档1,df_采购收入原始数据1,df_类别1= \\\n",
    "whole_obj.load_data(in_file1,in_file2,in_file3,in_file4,in_file5)\n",
    "\n",
    "#分摊oi\n",
    "df_oi1,df_oi2=whole_obj.shop_category_oi_share(df_原始销售1,df_采购收入原始数据1,df_类别1)\n",
    "\n",
    "\n",
    "\n",
    "df_oi3=df_oi1.append(df_oi2)\n",
    "#以上df_oi3，是完整数据的oi的分摊结果###########################################\n",
    "\n",
    "\n",
    "#真正分摊渠道的oi\n",
    "bool_渠道=df_oi3['渠道'].str.contains('企事业|线上')\n",
    "df_oi3=df_oi3[bool_渠道]\n",
    "\n",
    "df_oi=goods_obj.channel_shop_sku_oi_share(df_原始销售,df_oi3,df_类别)\n",
    "\n",
    "\n",
    "#合并处理销售、券、oi并输出结果df\n",
    "df_all1=goods_obj.partial_merge_out_df(df_sale_coupons,df_oi)\n",
    "\n",
    "#精加工输出的DF\n",
    "df_out=goods_obj.finish_machining_outfile(df_all1,df_商品主档,df_类别,df_门店_主档)\n",
    "\n",
    "\n",
    "\n",
    "\n"
   ]
  }
 ],
 "metadata": {
  "kernelspec": {
   "display_name": "Python 3",
   "language": "python",
   "name": "python3"
  },
  "language_info": {
   "codemirror_mode": {
    "name": "ipython",
    "version": 3
   },
   "file_extension": ".py",
   "mimetype": "text/x-python",
   "name": "python",
   "nbconvert_exporter": "python",
   "pygments_lexer": "ipython3",
   "version": "3.8.8"
  }
 },
 "nbformat": 4,
 "nbformat_minor": 5
}
