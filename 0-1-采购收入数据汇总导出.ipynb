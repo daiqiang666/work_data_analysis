{
 "cells": [
  {
   "cell_type": "code",
   "execution_count": 1,
   "id": "70eb7b67",
   "metadata": {},
   "outputs": [
    {
     "name": "stdout",
     "output_type": "stream",
     "text": [
      "ok\n"
     ]
    }
   ],
   "source": [
    "#采购收入数据汇总\n",
    "from numpy import float64\n",
    "from datetime import datetime,date,time\n",
    "import pandas as pd\n",
    "import matplotlib.pyplot as plt\n",
    "from dq_work import rw_file\n",
    "import imp\n",
    "imp.reload(rw_file)#再次引入模块，默认只有一次，调试程序时有用\n",
    "#选择第0个sheet，取到数据的第0行是字段名，从第1行开始是读取数据\n",
    "rw_file1 = rw_file.rw_csv()\n",
    "\n",
    "\n",
    "in_file_dir1='e:/python-dq/work_data/毛利分析/202201/in/'\n",
    "in_file1='上海采购收入数据_大类-202201.csv'\n",
    "\n",
    "in_file_dir2='e:/python-dq/work_data/毛利分析/202202/in/'\n",
    "in_file2='上海采购收入数据_大类-202202.csv'\n",
    "\n",
    "\n",
    "in_file_dir3='e:/python-dq/work_data/毛利分析/202203/in/'\n",
    "in_file3='上海采购收入数据_大类-202203.csv'\n",
    "\n",
    "\n",
    "\n",
    "out_file_dir='e:/python-dq/work_data/tmp_data/in/'\n",
    "out_file='上海采购收入数据_大类-202201-03.csv'\n",
    "\n",
    "df_1 = rw_file1.r_csv_ansi(in_file_dir1 + in_file1,0,0)\n",
    "df_2 = rw_file1.r_csv_ansi(in_file_dir2 + in_file2,0,0)\n",
    "df_3 = rw_file1.r_csv_ansi(in_file_dir3 + in_file3,0,0)\n",
    "\n",
    "\n",
    "\n",
    "print('ok')\n",
    "\n"
   ]
  },
  {
   "cell_type": "code",
   "execution_count": 2,
   "id": "a6a0f412",
   "metadata": {},
   "outputs": [
    {
     "name": "stdout",
     "output_type": "stream",
     "text": [
      "(9078, 13)\n",
      "(6190, 13)\n",
      "(8323, 13)\n",
      "Index(['月份', '发生BU', '发生机构', '发生机构名称', '供应商编码', '供应商名称', '大类编码', '大类名称',\n",
      "       '扣项ID', '扣项名称', '扣项类型', '金额', '税率'],\n",
      "      dtype='object')\n",
      "Index(['月份', '发生BU', '发生机构', '发生机构名称', '供应商编码', '供应商名称', '大类编码', '大类名称',\n",
      "       '扣项ID', '扣项名称', '扣项类型', '金额', '税率'],\n",
      "      dtype='object')\n",
      "Index(['月份', '发生BU', '发生机构', '发生机构名称', '供应商编码', '供应商名称', '大类编码', '大类名称',\n",
      "       '扣项ID', '扣项名称', '扣项类型', '金额', '税率'],\n",
      "      dtype='object')\n"
     ]
    }
   ],
   "source": [
    "print(df_1.shape)\n",
    "print(df_2.shape)\n",
    "print(df_3.shape)\n",
    "\n",
    "print(df_1.columns)\n",
    "print(df_2.columns)\n",
    "print(df_3.columns)\n"
   ]
  },
  {
   "cell_type": "code",
   "execution_count": 3,
   "id": "a0475ed9",
   "metadata": {},
   "outputs": [],
   "source": [
    "#合并\n",
    "df_all =df_1.append([df_2,df_3])\n",
    "\n",
    "#剔除非省区采收\n",
    "bool1=~df_all['扣项类型'].str.contains('装卸|搬运')\n",
    "df_all=df_all[bool1]"
   ]
  },
  {
   "cell_type": "code",
   "execution_count": 5,
   "id": "1fa6daa6",
   "metadata": {},
   "outputs": [
    {
     "data": {
      "text/plain": [
       "金额    40076834.11\n",
       "dtype: float64"
      ]
     },
     "execution_count": 5,
     "metadata": {},
     "output_type": "execute_result"
    }
   ],
   "source": [
    "df_all.loc[:,['金额']].sum()\n",
    "#金额    40076834.11"
   ]
  },
  {
   "cell_type": "code",
   "execution_count": 6,
   "id": "61e2e798",
   "metadata": {},
   "outputs": [
    {
     "data": {
      "text/plain": [
       "Index(['月份', '发生BU', '发生机构', '发生机构名称', '供应商编码', '供应商名称', '大类编码', '大类名称',\n",
       "       '扣项ID', '扣项名称', '扣项类型', '金额', '税率'],\n",
       "      dtype='object')"
      ]
     },
     "execution_count": 6,
     "metadata": {},
     "output_type": "execute_result"
    }
   ],
   "source": [
    "df_all.columns"
   ]
  },
  {
   "cell_type": "markdown",
   "id": "b26c092c",
   "metadata": {},
   "source": [
    "## 导出数据"
   ]
  },
  {
   "cell_type": "code",
   "execution_count": 8,
   "id": "c1a52286",
   "metadata": {},
   "outputs": [
    {
     "name": "stdout",
     "output_type": "stream",
     "text": [
      "采收合并导出完成\n"
     ]
    }
   ],
   "source": [
    "rw_file1.w_csv(df_all,out_file_dir + out_file)\n",
    "print('采收合并导出完成')"
   ]
  },
  {
   "cell_type": "code",
   "execution_count": 9,
   "id": "018ae0c1",
   "metadata": {},
   "outputs": [
    {
     "name": "stdout",
     "output_type": "stream",
     "text": [
      "over\n"
     ]
    }
   ],
   "source": [
    "#清除内存\n",
    "del df_1\n",
    "del df_2\n",
    "del df_3\n",
    "del df_all\n",
    "print('over')"
   ]
  },
  {
   "cell_type": "code",
   "execution_count": null,
   "id": "413b15b5",
   "metadata": {},
   "outputs": [],
   "source": []
  }
 ],
 "metadata": {
  "kernelspec": {
   "display_name": "Python 3",
   "language": "python",
   "name": "python3"
  },
  "language_info": {
   "codemirror_mode": {
    "name": "ipython",
    "version": 3
   },
   "file_extension": ".py",
   "mimetype": "text/x-python",
   "name": "python",
   "nbconvert_exporter": "python",
   "pygments_lexer": "ipython3",
   "version": "3.8.8"
  }
 },
 "nbformat": 4,
 "nbformat_minor": 5
}
