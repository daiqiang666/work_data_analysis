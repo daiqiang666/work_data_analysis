{
 "cells": [
  {
   "cell_type": "code",
   "execution_count": 27,
   "id": "85335c78",
   "metadata": {},
   "outputs": [],
   "source": [
    "######建立对象\n",
    "import sys\n",
    "sys.path.append('E:\\\\python-dq\\\\py\\\\work')\n",
    "import imp\n",
    "\n",
    "import dq_work.whole.whole_1 as whole\n",
    "\n",
    "\n",
    "imp.reload(whole)#再次引入模块，默认只有一次，调试程序时有用\n",
    "\n",
    "#建立对象\n",
    "###建立对象的相关参数变量\n",
    "\n",
    "company='浙江'\n",
    "date_Range='2022'\n",
    "#date_Range_all='20220701-0731'\n",
    "date_Range_all='2022'\n",
    "in_file_path='e:/python-dq/work_data/whole_data/in/'\n",
    "out_file_path='e:/python-dq/work_data/whole_data/out/'\n",
    "public_path='e:/python-dq/work_data/public_data/out/'\n",
    "\n",
    "whole_obj=whole.whole(company,date_Range,date_Range_all,in_file_path,out_file_path,public_path)\n"
   ]
  },
  {
   "cell_type": "code",
   "execution_count": 28,
   "id": "78c1691a",
   "metadata": {},
   "outputs": [
    {
     "name": "stdout",
     "output_type": "stream",
     "text": [
      "导入原始销售数据、类别主档 over\n"
     ]
    }
   ],
   "source": [
    "#导入销售原始数据与品类主档\n",
    "\n",
    "######################################\n",
    "\n",
    "in_file1='02_业务报表-销售报表-大类-供应商-'+company+ '-'+date_Range_all+'.csv'\n",
    "in_file5='B-分析-品类基础资料.csv'\n",
    "######################################\n",
    "\n",
    "df_原始销售,df_类别= \\\n",
    "whole_obj.load_data_category_sale(in_file1,in_file5)\n"
   ]
  },
  {
   "cell_type": "code",
   "execution_count": 29,
   "id": "2166bbe3",
   "metadata": {},
   "outputs": [
    {
     "name": "stdout",
     "output_type": "stream",
     "text": [
      "导入原始用券数据 over\n"
     ]
    }
   ],
   "source": [
    "#导入券原始数据\n",
    "\n",
    "######################################\n",
    "\n",
    "in_file2='02-用券分摊-大类层级-数据表-'+company+ '-'+date_Range_all+'.csv'\n",
    "\n",
    "######################################\n",
    "\n",
    "df_原始用券= \\\n",
    "whole_obj.load_data_category_coupon(in_file2)"
   ]
  },
  {
   "cell_type": "code",
   "execution_count": 30,
   "id": "5a5a6d42",
   "metadata": {},
   "outputs": [
    {
     "name": "stdout",
     "output_type": "stream",
     "text": [
      "导入原始OI数据 over\n"
     ]
    }
   ],
   "source": [
    "#导入原始oi\n",
    "######################################\n",
    "\n",
    "in_file3='采购收入-'+company+ '-'+date_Range_all+'.csv'\n",
    "\n",
    "######################################\n",
    "\n",
    "df_原始采购收入= \\\n",
    "whole_obj.load_data_category_oi(in_file3)"
   ]
  },
  {
   "cell_type": "code",
   "execution_count": 31,
   "id": "6b3f21f8",
   "metadata": {},
   "outputs": [
    {
     "name": "stdout",
     "output_type": "stream",
     "text": [
      "导入原始库存 over\n"
     ]
    }
   ],
   "source": [
    "#导入原始库存\n",
    "######################################\n",
    "\n",
    "in_file4='02_业务报表-销售报表-大类-供应商-库存-'+company+ '-'+date_Range_all+'.csv'\n",
    "\n",
    "######################################\n",
    "\n",
    "df_原始库存= \\\n",
    "whole_obj.load_data_category_stock(in_file4)"
   ]
  },
  {
   "cell_type": "code",
   "execution_count": 32,
   "id": "9418342e",
   "metadata": {},
   "outputs": [
    {
     "name": "stdout",
     "output_type": "stream",
     "text": [
      "Index(['日期', '省级公司名称', '渠道', '合计', '模块编码', '模块名称', '品类编码', '品类名称', '大类编码',\n",
      "       '大类名称', '供应商编码', '供应商业务码', '供应商名称', '月-销售数量', '月-销售净额(折前)', '月-销售净额',\n",
      "       '月-销售成本', '月-折扣净额', '月-生鲜损耗', '月-补差', '月-销售毛利', '月-系统毛利额', '月-客流量',\n",
      "       '年-销售数量', '年-销售净额(折前)', '年-销售净额', '年-销售成本', '年-折扣净额', '年-生鲜损耗', '年-补差',\n",
      "       '年-销售毛利', '年-系统毛利额', '年-客流量'],\n",
      "      dtype='object')\n",
      "Index(['日期合计', '省级公司名称', '渠道名称', '合计', '细分渠道', '模块名称', '大类编码', '大类名称', '运费券标识',\n",
      "       '总用券金额（元）', '供应商承担金额（元）', '平台承担金额（元）', '万家承担金额（元）', '总用券金额（去同）',\n",
      "       '供应商承担金额（去同）', '平台承担金额（去同）', '万家承担金额（去同）'],\n",
      "      dtype='object')\n",
      "Index(['发生BU', '门店DC编码', '发生机构名称', '供应商编码', '供应商名称', '大类编码', '大类名称', '扣项ID',\n",
      "       '扣项名称', '扣项类型', '金额', '税率'],\n",
      "      dtype='object')\n",
      "Index(['日期', '省级公司名称', '部门编码', '部门名称', '品类编码', '品类名称', '大类编码', '大类名称', '供应商编码',\n",
      "       '供应商业务码', '供应商名称', '月-库存金额', '自营-销售成本-月', '月-库存周转天数', '年-库存金额',\n",
      "       '自营-销售成本-年', '年-库存周转天数'],\n",
      "      dtype='object')\n"
     ]
    }
   ],
   "source": [
    "print(df_原始销售.columns)\n",
    "print(df_原始用券.columns)\n",
    "print(df_原始采购收入.columns)\n",
    "print(df_原始库存.columns)"
   ]
  },
  {
   "cell_type": "code",
   "execution_count": 33,
   "id": "c2d9ca75",
   "metadata": {},
   "outputs": [
    {
     "name": "stdout",
     "output_type": "stream",
     "text": [
      "df字段梳理完成！\n"
     ]
    }
   ],
   "source": [
    "\n",
    "##################梳理销售df的字段\n",
    "sale_columns_list=[ '渠道', '大类编码','供应商业务码','年-销售数量', '年-销售净额(折前)', '年-销售净额', '年-销售成本', '年-折扣净额', '年-生鲜损耗', '年-补差',\n",
    "       '年-销售毛利', '年-系统毛利额', '年-客流量']\n",
    "#选择字段\n",
    "df_销售=df_原始销售.loc[:,sale_columns_list]\n",
    "#批量修改dataframe的字段名称\n",
    "sale_columns_name=['渠道', '大类编码','供应商业务码','销售数量', '销售净额折前', '销售净额', '销售成本', '折扣净额', '生鲜损耗', '补差',\n",
    "       '销售毛利', '系统毛利额', '客流量']\n",
    "df_销售.columns=sale_columns_name\n",
    "\n",
    "###################梳理券df的字段\n",
    "coupon_columns_list=[ '渠道名称', '大类编码','总用券金额（元）', '供应商承担金额（元）', '平台承担金额（元）', '万家承担金额（元）']\n",
    "#选择字段\n",
    "df_券=df_原始用券.loc[:,coupon_columns_list]\n",
    "\n",
    "#批量修改dataframe的字段名称\n",
    "coupon_columns_name=[ '渠道', '大类编码','总用券金额', '供应商承担金额', '平台承担金额', '万家承担金额']\n",
    "df_券.columns=coupon_columns_name\n",
    "\n",
    "###################梳理OI  df的字段\n",
    "oi_columns_list=['门店DC编码', '供应商编码', '大类编码', '扣项ID','扣项名称', '扣项类型', '金额']\n",
    "#选择字段\n",
    "df_采收=df_原始采购收入.loc[:,oi_columns_list]\n",
    "\n",
    "#批量修改dataframe的字段名称\n",
    "oi_columns_name=['门店DC编码', '供应商业务码', '大类编码', '扣项ID','扣项名称', '扣项类型', '金额']\n",
    "df_采收.columns=oi_columns_name\n",
    "\n",
    "\n",
    "###################梳理库存 df的字段\n",
    "stock_columns_list=['大类编码','供应商业务码', '年-库存金额','自营-销售成本-年', '年-库存周转天数']\n",
    "#选择字段\n",
    "df_库存=df_原始库存.loc[:,stock_columns_list]\n",
    "\n",
    "#批量修改dataframe的字段名称\n",
    "stock_columns_name=['大类编码','供应商业务码', '库存金额','自营-销售成本', '库存周转天数']\n",
    "df_库存.columns=stock_columns_name\n",
    "\n",
    "\n",
    "\n",
    "\n",
    "print('df字段梳理完成！')\n"
   ]
  },
  {
   "cell_type": "code",
   "execution_count": 34,
   "id": "74bcef3f",
   "metadata": {},
   "outputs": [
    {
     "name": "stdout",
     "output_type": "stream",
     "text": [
      "Index(['渠道', '大类编码', '供应商业务码', '销售数量', '销售净额折前', '销售净额', '销售成本', '折扣净额',\n",
      "       '生鲜损耗', '补差', '销售毛利', '系统毛利额', '客流量'],\n",
      "      dtype='object')\n",
      "Index(['渠道', '大类编码', '总用券金额', '供应商承担金额', '平台承担金额', '万家承担金额'], dtype='object')\n",
      "Index(['门店DC编码', '供应商业务码', '大类编码', '扣项ID', '扣项名称', '扣项类型', '金额'], dtype='object')\n",
      "Index(['大类编码', '供应商业务码', '库存金额', '自营-销售成本', '库存周转天数'], dtype='object')\n"
     ]
    }
   ],
   "source": [
    "print(df_销售.columns)\n",
    "print(df_券.columns)\n",
    "print(df_采收.columns)\n",
    "print(df_库存.columns)"
   ]
  },
  {
   "cell_type": "code",
   "execution_count": 35,
   "id": "a4cf9573",
   "metadata": {},
   "outputs": [
    {
     "name": "stdout",
     "output_type": "stream",
     "text": [
      "销售净额    4.463682e+09\n",
      "dtype: float64\n",
      "万家承担金额    2.264221e+08\n",
      "dtype: float64\n",
      "金额    471565756.2\n",
      "dtype: float64\n",
      "库存金额    1.900377e+11\n",
      "dtype: float64\n",
      "===========================================\n",
      "销售净额    4.463682e+09\n",
      "dtype: float64\n",
      "万家承担金额    2.261566e+08\n",
      "dtype: float64\n",
      "金额    471565756.2\n",
      "dtype: float64\n",
      "库存金额    1.900377e+11\n",
      "dtype: float64\n",
      "销售、券、oi、stock数据合并完成\n"
     ]
    }
   ],
   "source": [
    "##合并销售\\券\\oi\\stock\n",
    "df_sale_coupon_oi_stock=whole_obj.sale_coupons_oi_stock_join_category(df_销售,df_券,df_采收,df_库存)\n"
   ]
  },
  {
   "cell_type": "code",
   "execution_count": 36,
   "id": "80d5b43a",
   "metadata": {},
   "outputs": [
    {
     "name": "stdout",
     "output_type": "stream",
     "text": [
      "精加工 dataframe over\n",
      "input mysql finish\n"
     ]
    }
   ],
   "source": [
    "#精加工df\n",
    "df_sale_coupon_oi_stock_machining=whole_obj.finish_machining_outfile_category(df_sale_coupon_oi_stock,df_类别)\n",
    "#将结果落库mysql\n",
    "#落库的table\n",
    "in_table='whole_catebory_' + company+date_Range_all\n",
    "whole_obj.input_mysql_category(df_sale_coupon_oi_stock_machining,in_table)"
   ]
  },
  {
   "cell_type": "markdown",
   "id": "fa077bca",
   "metadata": {},
   "source": [
    "## over"
   ]
  },
  {
   "cell_type": "code",
   "execution_count": 13,
   "id": "5e2fbd72",
   "metadata": {},
   "outputs": [
    {
     "name": "stdout",
     "output_type": "stream",
     "text": [
      "365\n"
     ]
    }
   ],
   "source": [
    "#计算1年包含的天数\n",
    "import datetime\n",
    "date_str1='2022-01-01'\n",
    "date_str2='2022-12-31'\n",
    "date1=datetime.datetime.strptime(date_str1[0:10],'%Y-%m-%d')\n",
    "date2=datetime.datetime.strptime(date_str2[0:10],'%Y-%m-%d')\n",
    "num=(date2-date1).days+1\n",
    "print(num)"
   ]
  },
  {
   "cell_type": "code",
   "execution_count": null,
   "id": "6162e8f3",
   "metadata": {},
   "outputs": [],
   "source": []
  }
 ],
 "metadata": {
  "kernelspec": {
   "display_name": "Python 3",
   "language": "python",
   "name": "python3"
  },
  "language_info": {
   "codemirror_mode": {
    "name": "ipython",
    "version": 3
   },
   "file_extension": ".py",
   "mimetype": "text/x-python",
   "name": "python",
   "nbconvert_exporter": "python",
   "pygments_lexer": "ipython3",
   "version": "3.8.8"
  }
 },
 "nbformat": 4,
 "nbformat_minor": 5
}
