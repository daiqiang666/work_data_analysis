{
 "cells": [
  {
   "cell_type": "code",
   "execution_count": 1,
   "id": "85335c78",
   "metadata": {},
   "outputs": [],
   "source": [
    "######建立对象\n",
    "import sys\n",
    "sys.path.append('E:\\\\python-dq\\\\py\\\\work')\n",
    "import imp\n",
    "\n",
    "import dq_work.whole.whole_1 as whole\n",
    "\n",
    "\n",
    "imp.reload(whole)#再次引入模块，默认只有一次，调试程序时有用\n",
    "\n",
    "#建立对象\n",
    "###建立对象的相关参数变量\n",
    "\n",
    "company='浙江'\n",
    "date_Range='202207'\n",
    "#date_Range_all='20220701-0731'\n",
    "date_Range_all='2022'\n",
    "in_file_path='e:/python-dq/work_data/whole_data/in/'\n",
    "out_file_path='e:/python-dq/work_data/whole_data/out/'\n",
    "public_path='e:/python-dq/work_data/public_data/out/'\n",
    "\n",
    "whole_obj=whole.whole(company,date_Range,date_Range_all,in_file_path,out_file_path,public_path)\n"
   ]
  },
  {
   "cell_type": "code",
   "execution_count": 3,
   "id": "78c1691a",
   "metadata": {},
   "outputs": [
    {
     "name": "stdout",
     "output_type": "stream",
     "text": [
      "导入原始销售数据、类别主档 over\n"
     ]
    }
   ],
   "source": [
    "#导入销售原始数据与品类主档\n",
    "\n",
    "######################################\n",
    "\n",
    "in_file1='02_业务报表-销售报表-大类-供应商-'+company+ '-'+date_Range_all+'.csv'\n",
    "in_file5='B-分析-品类基础资料.csv'\n",
    "######################################\n",
    "\n",
    "df_原始销售,df_类别= \\\n",
    "whole_obj.load_data_category_sale(in_file1,in_file5)\n"
   ]
  },
  {
   "cell_type": "code",
   "execution_count": 4,
   "id": "2166bbe3",
   "metadata": {},
   "outputs": [
    {
     "name": "stdout",
     "output_type": "stream",
     "text": [
      "导入原始用券数据 over\n"
     ]
    }
   ],
   "source": [
    "#导入券原始数据\n",
    "\n",
    "######################################\n",
    "\n",
    "in_file2='02-用券分摊-大类层级-数据表-'+company+ '-'+date_Range_all+'.csv'\n",
    "\n",
    "######################################\n",
    "\n",
    "df_原始用券= \\\n",
    "whole_obj.load_data_category_coupon(in_file2)"
   ]
  },
  {
   "cell_type": "code",
   "execution_count": null,
   "id": "5a5a6d42",
   "metadata": {},
   "outputs": [],
   "source": [
    "#待完善，导入原始oi"
   ]
  },
  {
   "cell_type": "code",
   "execution_count": 6,
   "id": "9418342e",
   "metadata": {},
   "outputs": [
    {
     "name": "stdout",
     "output_type": "stream",
     "text": [
      "Index(['日期', '省级公司名称', '渠道', '合计', '模块编码', '模块名称', '品类编码', '品类名称', '大类编码',\n",
      "       '大类名称', '供应商编码', '供应商业务码', '供应商名称', '月-销售数量', '月-销售净额(折前)', '月-销售净额',\n",
      "       '月-销售成本', '月-折扣净额', '月-生鲜损耗', '月-补差', '月-销售毛利', '月-系统毛利额', '月-客流量',\n",
      "       '年-销售数量', '年-销售净额(折前)', '年-销售净额', '年-销售成本', '年-折扣净额', '年-生鲜损耗', '年-补差',\n",
      "       '年-销售毛利', '年-系统毛利额', '年-客流量'],\n",
      "      dtype='object')\n",
      "Index(['日期合计', '省级公司名称', '渠道名称', '合计', '细分渠道', '模块名称', '大类编码', '大类名称', '运费券标识',\n",
      "       '总用券金额（元）', '供应商承担金额（元）', '平台承担金额（元）', '万家承担金额（元）', '总用券金额（去同）',\n",
      "       '供应商承担金额（去同）', '平台承担金额（去同）', '万家承担金额（去同）'],\n",
      "      dtype='object')\n"
     ]
    }
   ],
   "source": [
    "print(df_原始销售.columns)\n",
    "print(df_原始用券.columns)"
   ]
  },
  {
   "cell_type": "code",
   "execution_count": 7,
   "id": "c2d9ca75",
   "metadata": {},
   "outputs": [],
   "source": [
    "\n",
    "sale_columns_list=[ '渠道', '大类编码','供应商业务码','年-销售数量', '年-销售净额(折前)', '年-销售净额', '年-销售成本', '年-折扣净额', '年-生鲜损耗', '年-补差',\n",
    "       '年-销售毛利', '年-系统毛利额', '年-客流量']\n",
    "#选择字段\n",
    "df_销售=df_原始销售.loc[:,sale_columns_list]\n",
    "#批量修改dataframe的字段名称\n",
    "sale_columns_name=['渠道', '大类编码','供应商业务码','销售数量', '销售净额折前', '销售净额', '销售成本', '折扣净额', '生鲜损耗', '补差',\n",
    "       '销售毛利', '系统毛利额', '客流量']\n",
    "df_销售.columns=sale_columns_name\n"
   ]
  },
  {
   "cell_type": "code",
   "execution_count": 11,
   "id": "b3d65f40",
   "metadata": {},
   "outputs": [
    {
     "name": "stdout",
     "output_type": "stream",
     "text": [
      "Index(['渠道', '大类编码', '供应商业务码', '销售数量', '销售净额折前', '销售净额', '销售成本', '折扣净额',\n",
      "       '生鲜损耗', '补差', '销售毛利', '系统毛利额', '客流量'],\n",
      "      dtype='object')\n"
     ]
    }
   ],
   "source": [
    "print(df_销售.columns)"
   ]
  },
  {
   "cell_type": "code",
   "execution_count": null,
   "id": "a4cf9573",
   "metadata": {},
   "outputs": [],
   "source": [
    "##后续、待续"
   ]
  },
  {
   "cell_type": "code",
   "execution_count": 14,
   "id": "60fea15e",
   "metadata": {},
   "outputs": [
    {
     "name": "stdout",
     "output_type": "stream",
     "text": [
      "销售数据与券数据合并完成\n",
      "销售净额    3.293949e+08\n",
      "dtype: float64\n",
      "万家承担金额（去税）    1.543909e+07\n",
      "dtype: float64\n",
      "万家承担金额（去税）    1.543909e+07\n",
      "dtype: float64\n",
      "金额    40292443.82\n",
      "dtype: float64\n",
      "OI 分摊计算完成\n",
      "df合并处理finish\n",
      "精加工 dataframe over\n"
     ]
    }
   ],
   "source": [
    "########计算########\n",
    "#合并销售数据与券数据\n",
    "df_sale_coupons=whole_obj.sale_coupons_join(df_原始销售,df_原始用券)\n",
    "\n",
    "#分摊oi\n",
    "\n",
    "df_oi1,df_oi2=whole_obj.shop_category_oi_share(df_原始销售,df_采购收入原始数据,df_类别)\n",
    "\n",
    "#合并处理销售、券、oi并输出结果df\n",
    "df_all1=whole_obj.merge_out_df(df_sale_coupons,df_oi1,df_oi2)\n",
    "\n",
    "#精加工输出的DF\n",
    "df_out=whole_obj.finish_machining_outfile(df_all1,df_类别,df_门店_主档)\n"
   ]
  },
  {
   "cell_type": "code",
   "execution_count": 15,
   "id": "76d6f7d7",
   "metadata": {},
   "outputs": [
    {
     "name": "stdout",
     "output_type": "stream",
     "text": [
      "整体销售毛利数据的excel文件导出 over\n"
     ]
    }
   ],
   "source": [
    "#输出单店单品的销售df到外面的文件中\n",
    "whole_obj.put_outfile(df_out)"
   ]
  },
  {
   "cell_type": "markdown",
   "id": "9f85284c",
   "metadata": {},
   "source": [
    "# 添加库存周转相关字段"
   ]
  },
  {
   "cell_type": "code",
   "execution_count": 25,
   "id": "82f7e1c8",
   "metadata": {},
   "outputs": [
    {
     "name": "stdout",
     "output_type": "stream",
     "text": [
      "导入原始库存数据 over\n",
      "库存金额    6.112741e+09\n",
      "dtype: float64\n"
     ]
    }
   ],
   "source": [
    "#导入库存的原始数据\n",
    "#需要准备的导入文件清单\n",
    "\n",
    "\n",
    "######################################\n",
    "in_file1_1='03_业务报表-销售报表-大类-供应商-门店-库存-'+company+ '-'+date_Range_all+'.csv'\n",
    "######################################\n",
    "\n",
    "df_原始库存= \\\n",
    "whole_obj.load_data_stock(in_file1_1)\n"
   ]
  },
  {
   "cell_type": "code",
   "execution_count": 26,
   "id": "d002bb8f",
   "metadata": {},
   "outputs": [
    {
     "name": "stdout",
     "output_type": "stream",
     "text": [
      "库存计算finish\n",
      "销售与库存合并处理finish\n"
     ]
    }
   ],
   "source": [
    "########计算########\n",
    "#计算库存数据\n",
    "df_stock1=whole_obj.stock_compute(df_原始库存)\n",
    "\n",
    "#销售df与库存df的合并\n",
    "###销售df，去上述的精加工后的销售毛利df--df_out\n",
    "df_sale_stock1=whole_obj.merge_sale_stock(df_out,df_stock1)\n",
    "\n"
   ]
  },
  {
   "cell_type": "code",
   "execution_count": 27,
   "id": "6a731fb6",
   "metadata": {},
   "outputs": [
    {
     "name": "stdout",
     "output_type": "stream",
     "text": [
      "精加工 dataframe over\n"
     ]
    }
   ],
   "source": [
    "\n",
    "#精加工输出的DF\n",
    "df_out2=whole_obj.finish_machining_outfile(df_sale_stock1,df_类别,df_门店_主档)\n",
    "\n",
    "\n"
   ]
  },
  {
   "cell_type": "code",
   "execution_count": 28,
   "id": "b86a2597",
   "metadata": {},
   "outputs": [
    {
     "name": "stdout",
     "output_type": "stream",
     "text": [
      "整体的销售毛利库存数据的excel文件导出 over\n"
     ]
    }
   ],
   "source": [
    "#输出单店单品的销售毛利与库存df到外面的文件中\n",
    "whole_obj.put_outfile_stock(df_out2)"
   ]
  },
  {
   "cell_type": "code",
   "execution_count": null,
   "id": "5e2fbd72",
   "metadata": {},
   "outputs": [],
   "source": []
  }
 ],
 "metadata": {
  "kernelspec": {
   "display_name": "Python 3",
   "language": "python",
   "name": "python3"
  },
  "language_info": {
   "codemirror_mode": {
    "name": "ipython",
    "version": 3
   },
   "file_extension": ".py",
   "mimetype": "text/x-python",
   "name": "python",
   "nbconvert_exporter": "python",
   "pygments_lexer": "ipython3",
   "version": "3.8.8"
  }
 },
 "nbformat": 4,
 "nbformat_minor": 5
}
