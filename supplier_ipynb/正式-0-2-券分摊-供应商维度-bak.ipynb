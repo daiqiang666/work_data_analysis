{
 "cells": [
  {
   "cell_type": "markdown",
   "id": "ab1220b3",
   "metadata": {},
   "source": [
    "# 1，直接根据券原始数据，groupby 计算供应商维度的券分摊金额"
   ]
  },
  {
   "cell_type": "code",
   "execution_count": 2,
   "id": "24ed6cf9",
   "metadata": {},
   "outputs": [
    {
     "name": "stdout",
     "output_type": "stream",
     "text": [
      "ok\n"
     ]
    }
   ],
   "source": [
    "from numpy import float64\n",
    "import numpy as np\n",
    "from datetime import datetime,date,time\n",
    "import pandas as pd\n",
    "from dq_work import rw_file\n",
    "import imp\n",
    "imp.reload(rw_file)#再次引入模块，默认只有一次，调试程序时有用\n",
    "#选择第0个sheet，取到数据的第0行是字段名，从第1行开始是读取数据\n",
    "rw_file1 = rw_file.rw_csv()\n",
    "\n",
    "\n",
    "company='上海'\n",
    "date_Range  ='20220701-0731'\n",
    "\n",
    "#需要准备的导入文件清单\n",
    "######################################\n",
    "file_dir_0='e:/python-dq/work_data/tmp_data/in/'\n",
    "\n",
    "file_1='01-用劵分摊-商品层级-原版-'+company+ '-all-'+date_Range+'.csv'\n",
    "\n",
    "######################################\n",
    "#导出的文件\n",
    "file_out='供应商券分摊_out'+company+ '-all-'+date_Range+'.csv'\n",
    "\n",
    "\n",
    "df_券金额原始数据 =  rw_file1.r_csv_utf8(file_dir_0+file_1,0,0)\n",
    "\n",
    "#取得sku的券金额\n",
    "g_大类_供应商=df_券金额原始数据.groupby(['大类编码','供应商业务码'])\n",
    "df_大类_供应商_quan=pd.DataFrame(g_大类_供应商[['万家承担金额（去税）']].sum())\n",
    "#取消索引\n",
    "df_大类_供应商_quan.reset_index(inplace=True)\n",
    "df_大类_供应商_quan.rename(columns={'万家承担金额（去税）':'券分摊金额'},inplace=True)\n",
    "\n",
    "\n",
    "#导出供应商的分摊文件\n",
    "rw_file1.w_csv(df_大类_供应商_quan,file_dir_0+file_out)\n",
    "\n",
    "print('ok')\n",
    "\n"
   ]
  },
  {
   "cell_type": "markdown",
   "id": "69b90a61",
   "metadata": {},
   "source": [
    "# 2，根据供应商的销售占比，计算券分摊金额（待更新）"
   ]
  },
  {
   "cell_type": "code",
   "execution_count": 136,
   "id": "6da5741f",
   "metadata": {},
   "outputs": [
    {
     "name": "stdout",
     "output_type": "stream",
     "text": [
      "over\n"
     ]
    }
   ],
   "source": [
    "#导入数据\n",
    "from numpy import float64\n",
    "import pandas as pd\n",
    "from dq_work import rw_file\n",
    "from dq_work import work1\n",
    "import imp\n",
    "imp.reload(rw_file)#再次引入模块，默认只有一次，调试程序时有用\n",
    "read_file = rw_file.rw_csv()\n",
    "\n",
    "#配置导入源文件的目录与文件名\n",
    "in_file_dir='e:/python-dq/work_data/毛利分析/202201/in/'\n",
    "\n",
    "in_file1='03_业务报表-销售报表-销售-上海-sku-供应商.csv'\n",
    "#in_file2='浙江采购收入数据_大类-202201.csv'\n",
    "in_file3='12.上海用券汇总_out_202201.csv'\n",
    "\n",
    "\n",
    "#配置导出结果的目录与文件名\n",
    "out_file_dir='e:/python-dq/work_data/毛利分析/202201/out/'\n",
    "out_file='2.上海供应商券分摊_out.csv'\n",
    "\n",
    "df_单品销售原始数据 = read_file.r_csv_utf8(in_file_dir+in_file1,0,0)\n",
    "df_券金额原始数据 =  read_file.r_csv_utf8(out_file_dir+in_file3,0,0)\n",
    "\n",
    "print('over')\n",
    "\n"
   ]
  },
  {
   "cell_type": "code",
   "execution_count": 137,
   "id": "c080301d",
   "metadata": {},
   "outputs": [
    {
     "name": "stdout",
     "output_type": "stream",
     "text": [
      "Index(['省级公司名称', '渠道', '平台', '销售数量', '折扣净额', '销售金额', '销售净额(折前)', '销售净额',\n",
      "       '销售成本', '补差', '生鲜损耗', '毛利额', '模块编码', '模块名称', '品类编码', '品类名称', '大类编码',\n",
      "       '大类名称', '中类编码', '中类名称', '商品编码', '商品名称', '小类编码', '小类名称', '商品条码', '品牌名称',\n",
      "       '子渠道', '供应商编码', '供应商名称'],\n",
      "      dtype='object')\n",
      "Index(['日期', '省级公司名称', '业态名称', '采购管理区域名称', '营运区域', '新旧店标识', '门店编码', '门店DC名称',\n",
      "       '供应商编码', '供应商名称', '部门名称', '大类编码', '大类名称', '小类编码', '小类名称', '商品编码',\n",
      "       '商品条码', '商品名称', '品牌名称', '渠道', '平台', '销项税率', '券类型编码', '券类型名称', '券号',\n",
      "       '优惠类型', '小优惠类型', '用券总金额（去税）', '平台承担金额（去税）', '供应商承担金额（去税）',\n",
      "       '万家承担金额（去税）'],\n",
      "      dtype='object')\n"
     ]
    }
   ],
   "source": [
    "print(df_单品销售原始数据.columns)\n",
    "print(df_券金额原始数据.columns)"
   ]
  },
  {
   "cell_type": "code",
   "execution_count": 138,
   "id": "70eb7b67",
   "metadata": {},
   "outputs": [
    {
     "name": "stdout",
     "output_type": "stream",
     "text": [
      "over\n"
     ]
    }
   ],
   "source": [
    "from dq_work import work1\n",
    "import imp\n",
    "imp.reload(work1)#再次引入模块，默认只有一次，调试程序时有用\n",
    "analysis_1=work1.analysis_index()\n",
    "\n",
    "#计算供应商的销售比例\n",
    "g_sku_qudao_gys_xs =df_单品销售原始数据.groupby(['商品编码','大类编码','供应商编码'])\n",
    "df_sku_qudao_gys_xs=pd.DataFrame(g_sku_qudao_gys_xs[['销售净额']].sum())\n",
    "#取消索引\n",
    "df_sku_qudao_gys_xs.reset_index(inplace=True)\n",
    "\n",
    "bool2=df_sku_qudao_gys_xs['销售净额']>0\n",
    "df_sku_qudao_gys_xs=df_sku_qudao_gys_xs[bool2]\n",
    "\n",
    "                                 \n",
    "g_sku_gys =df_sku_qudao_gys_xs.groupby(['商品编码','大类编码'])\n",
    "df_quan_fentan=pd.DataFrame(g_sku_gys[['商品编码','大类编码','供应商编码','销售净额']] \\\n",
    "                               .apply(analysis_1.fentan_quan_gys))\n",
    "#取消索引\n",
    "#df_quan_fentan.reset_index(inplace=True)\n",
    "\n",
    "\n",
    "#取得sku的券金额\n",
    "g_sku_quan=df_券金额原始数据.groupby(['商品编码','大类编码'])\n",
    "df_sku_quan=pd.DataFrame(g_sku_quan[['万家承担金额（去税）']].sum())\n",
    "#取消索引\n",
    "df_sku_quan.reset_index(inplace=True)\n",
    "\n",
    "\n",
    "\n",
    "df_out1=pd.merge(df_sku_quan,df_quan_fentan,on=['商品编码','大类编码'],how='left')\n",
    "\n",
    "#计算分摊金额\n",
    "df_out1['券分摊金额']=df_out1['quan分摊比例']*df_out1['万家承担金额（去税）']\n",
    "\n",
    "print('over')\n"
   ]
  },
  {
   "cell_type": "code",
   "execution_count": 139,
   "id": "d500099f",
   "metadata": {},
   "outputs": [],
   "source": [
    "bool3=df_out1['quan分摊比例'] == 0\n",
    "bool4=df_out1['quan分摊比例'].isna()\n",
    "bool5= bool3 | bool4\n",
    "#取有效数据\n",
    "df_out2=df_out1.loc[~bool5]\n",
    "\n",
    "#===============\n",
    "#取为空、为零的数据\n",
    "df_out1_null=df_out1.loc[bool5]\n",
    "\n",
    "#取得需要补充进来的券原始数据\n",
    "df_券原始_null=pd.merge(df_券金额原始数据,df_out1_null,on=['商品编码','大类编码'])\n",
    "#加工补充进来的数据\n",
    "df_1=df_券原始_null.loc[:,['商品编码','大类编码','供应商编码_x','万家承担金额（去税）_x']]\n",
    "g_tmp_1=df_1.groupby(['商品编码','大类编码','供应商编码_x'])\n",
    "df_tmp1=pd.DataFrame(g_tmp_1[['万家承担金额（去税）_x']].sum())\n",
    "df_tmp1.reset_index(inplace=True)\n",
    "df_tmp1.rename(columns={'供应商编码_x':'供应商编码','万家承担金额（去税）_x':'券分摊金额'},inplace=True)\n",
    "#=======================\n",
    "#合并\n",
    "df_out3=df_out2.append([df_tmp1])"
   ]
  },
  {
   "cell_type": "code",
   "execution_count": 140,
   "id": "80b8a59d",
   "metadata": {},
   "outputs": [],
   "source": [
    "#按照供应商编码进行汇聚\n",
    "\n",
    "g_gys=df_out3.groupby(['供应商编码','大类编码'])\n",
    "\n",
    "df_out=pd.DataFrame(g_gys[[ '券分摊金额']].sum())\n",
    "#取消索引\n",
    "df_out.reset_index(inplace=True)\n",
    "\n"
   ]
  },
  {
   "cell_type": "code",
   "execution_count": 141,
   "id": "e209fef5",
   "metadata": {},
   "outputs": [
    {
     "data": {
      "text/plain": [
       "29966262.966640234"
      ]
     },
     "execution_count": 141,
     "metadata": {},
     "output_type": "execute_result"
    }
   ],
   "source": [
    "df_out['券分摊金额'].sum()"
   ]
  },
  {
   "cell_type": "markdown",
   "id": "b26c092c",
   "metadata": {},
   "source": [
    "## 导出数据"
   ]
  },
  {
   "cell_type": "code",
   "execution_count": 142,
   "id": "c1a52286",
   "metadata": {},
   "outputs": [
    {
     "name": "stdout",
     "output_type": "stream",
     "text": [
      "over\n"
     ]
    }
   ],
   "source": [
    "read_file.w_csv(df_out,out_file_dir+out_file)\n",
    "print('over')"
   ]
  },
  {
   "cell_type": "code",
   "execution_count": null,
   "id": "1bde8dd6",
   "metadata": {},
   "outputs": [],
   "source": []
  }
 ],
 "metadata": {
  "kernelspec": {
   "display_name": "Python 3",
   "language": "python",
   "name": "python3"
  },
  "language_info": {
   "codemirror_mode": {
    "name": "ipython",
    "version": 3
   },
   "file_extension": ".py",
   "mimetype": "text/x-python",
   "name": "python",
   "nbconvert_exporter": "python",
   "pygments_lexer": "ipython3",
   "version": "3.8.8"
  }
 },
 "nbformat": 4,
 "nbformat_minor": 5
}
