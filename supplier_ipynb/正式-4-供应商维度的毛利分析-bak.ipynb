{
 "cells": [
  {
   "cell_type": "code",
   "execution_count": 3,
   "id": "6da5741f",
   "metadata": {},
   "outputs": [
    {
     "name": "stdout",
     "output_type": "stream",
     "text": [
      "data in over\n"
     ]
    }
   ],
   "source": [
    "#导入数据\n",
    "from numpy import float64\n",
    "import pandas as pd\n",
    "from dq_work import rw_file\n",
    "import imp\n",
    "imp.reload(rw_file)#再次引入模块，默认只有一次，调试程序时有用\n",
    "read_file = rw_file.rw_csv()\n",
    "\n",
    "#配置参数\n",
    "\n",
    "company='上海'\n",
    "date_Range='202207'\n",
    "date_Range_all='20220701-0731'\n",
    "\n",
    "#company='上海'\n",
    "#date_Range='20220301-0331'\n",
    "\n",
    "#需要准备的导入文件清单\n",
    "######################################\n",
    "in_file_dir='e:/python-dq/work_data/tmp_data/in/'\n",
    "in_file='02_业务报表-销售报表-大类层级-供应商-'+company+ '-'+date_Range+'.csv'\n",
    "in_file2='采购收入_'+company+ '_'+date_Range_all+'.csv'\n",
    "in_file3='供应商券分摊_out'+company+ '-all-'+date_Range_all+'.csv'\n",
    "in_file4='01-用劵分摊-商品层级-原版-'+company+ '-all-'+date_Range_all+'.csv'\n",
    "\n",
    "\n",
    "\n",
    "######################################\n",
    "\n",
    "#配置导出结果的目录与文件名\n",
    "out_file_dir='e:/python-dq/work_data/tmp_data/out/'\n",
    "out_file='10.供应商毛利分析_out_'+company+ '-'+date_Range_all+'.xlsx'\n",
    "\n",
    "\n",
    "\n",
    "\n",
    "df_供应商原始数据 = read_file.r_csv_utf8(in_file_dir + in_file,0,0)\n",
    "df_采购收入原始数据 = read_file.r_csv_ansi(in_file_dir + in_file2,0,0)\n",
    "# 删选省区业绩的采购收入\n",
    "bool2=~df_采购收入原始数据['扣项类型'].str.contains('装卸|搬运')\n",
    "df_采购收入原始数据=df_采购收入原始数据[bool2]\n",
    "df_券金额原始数据 = read_file.r_csv_utf8(in_file_dir + in_file3 ,0,0)\n",
    "print('data in over')\n",
    "\n"
   ]
  },
  {
   "cell_type": "code",
   "execution_count": 4,
   "id": "c080301d",
   "metadata": {},
   "outputs": [
    {
     "name": "stdout",
     "output_type": "stream",
     "text": [
      "Index(['日期', '省级公司名称', '渠道', '平台', '模块编码', '模块名称', '品类编码', '品类名称', '大类编码',\n",
      "       '大类名称', '供应商编码', '供应商业务码', '供应商名称', '月-销售数量', '月-销售净额(折前)', '月-销售净额',\n",
      "       '月-销售成本', '月-折扣净额', '月-生鲜损耗', '月-补差', '月-销售毛利', '月-系统毛利额', '月-客流量',\n",
      "       '年-销售数量', '年-销售净额(折前)', '年-销售净额', '年-销售成本', '年-折扣净额', '年-生鲜损耗', '年-补差',\n",
      "       '年-销售毛利', '年-系统毛利额', '年-客流量'],\n",
      "      dtype='object')\n",
      "Index(['月份', '发生BU', '发生机构', '发生机构名称', '供应商编码', '供应商名称', '大类编码', '大类名称',\n",
      "       '扣项ID', '扣项名称', '扣项类型', '金额', '税率'],\n",
      "      dtype='object')\n",
      "Index(['大类编码', '供应商业务码', '券分摊金额'], dtype='object')\n"
     ]
    }
   ],
   "source": [
    "print(df_供应商原始数据.columns)\n",
    "print(df_采购收入原始数据.columns)\n",
    "print(df_券金额原始数据.columns)\n"
   ]
  },
  {
   "cell_type": "code",
   "execution_count": 9,
   "id": "da8e5995",
   "metadata": {},
   "outputs": [],
   "source": [
    "df_券金额原始数据.rename(columns={'供应商业务码':'供应商编码'},inplace=True)"
   ]
  },
  {
   "cell_type": "code",
   "execution_count": 19,
   "id": "d9134be9",
   "metadata": {},
   "outputs": [
    {
     "name": "stdout",
     "output_type": "stream",
     "text": [
      "112539903.087356\n",
      "15891038.341931999\n",
      "6154987.870000001\n",
      "7352855.821251824\n"
     ]
    },
    {
     "data": {
      "text/plain": [
       "'\\n121592244.41962\\n45462354.43\\n59896152.52862591\\n'"
      ]
     },
     "execution_count": 19,
     "metadata": {},
     "output_type": "execute_result"
    }
   ],
   "source": [
    "print(df_供应商原始数据['月-销售净额'].sum())\n",
    "print(df_供应商原始数据['月-销售毛利'].sum())\n",
    "\n",
    "print(df_采购收入原始数据['金额'].sum())\n",
    "print(df_券金额原始数据[ '券分摊金额'].sum())\n",
    "\n",
    "'''\n",
    "121592244.41962\n",
    "45462354.43\n",
    "59896152.52862591\n",
    "'''"
   ]
  },
  {
   "cell_type": "code",
   "execution_count": 11,
   "id": "70eb7b67",
   "metadata": {},
   "outputs": [],
   "source": [
    "g_销售_供应商 =df_供应商原始数据.groupby(['大类编码', '供应商编码'])\n",
    "df_供应商_销售=pd.DataFrame(g_销售_供应商[['月-销售净额','月-销售毛利']].sum())\n",
    "df_供应商_销售.reset_index(inplace=True)\n",
    "\n",
    "g_采收_供应商 =df_采购收入原始数据.groupby(['大类编码', '供应商编码'])\n",
    "df_供应商_采收=pd.DataFrame(g_采收_供应商[['金额']].sum())\n",
    "df_供应商_采收.reset_index(inplace=True)\n",
    "\n",
    "g_券_供应商 =df_券金额原始数据.groupby(['大类编码','供应商编码'])\n",
    "df_供应商_用券金额=pd.DataFrame(g_券_供应商[['券分摊金额']].sum())\n",
    "df_供应商_用券金额.reset_index(inplace=True)\n",
    "\n"
   ]
  },
  {
   "cell_type": "code",
   "execution_count": 13,
   "id": "f9c45423",
   "metadata": {},
   "outputs": [],
   "source": [
    "#生成供应商的主档\n",
    "\n",
    "df_券金额原始数据_zsj = read_file.r_csv_utf8(in_file_dir + in_file4 ,0,0)\n",
    "\n",
    "df_券金额原始数据_zsj.rename(columns={'供应商业务码':'供应商编码'},inplace=True)\n",
    "\n",
    "\n",
    "\n",
    "\n",
    "df_gys1=df_供应商原始数据.loc[:,[ '供应商编码', '供应商名称']]\n",
    "df_gys2=df_采购收入原始数据.loc[:,[ '供应商编码', '供应商名称']]\n",
    "df_gys3=df_券金额原始数据_zsj.loc[:,[ '供应商编码', '供应商名称']]\n",
    "df_供应商主档 =df_gys1.append([df_gys2,df_gys3])\n",
    "\n",
    "df_供应商主档.drop_duplicates(subset = ['供应商编码'],inplace=True)"
   ]
  },
  {
   "cell_type": "code",
   "execution_count": 14,
   "id": "dfc94a68",
   "metadata": {},
   "outputs": [],
   "source": [
    "df_供应商_1=pd.merge(df_供应商_销售,df_供应商_采收,on=['大类编码','供应商编码'],how='outer')\n",
    "df_供应商_2=pd.merge(df_供应商_1,df_供应商_用券金额,on=['大类编码','供应商编码'],how='outer')\n",
    "\n",
    "df_供应商_out_tmp=pd.merge(df_供应商_2,df_供应商主档,on=['供应商编码'],how='left')\n",
    "\n",
    "df_供应商_out_tmp.rename(columns={'券分摊金额':'万家承担金额（去税）'},inplace=True)\n",
    "df_供应商_out_tmp=df_供应商_out_tmp.fillna(0)\n",
    "\n"
   ]
  },
  {
   "cell_type": "markdown",
   "id": "b26c092c",
   "metadata": {},
   "source": [
    "## 导出供应商的数据"
   ]
  },
  {
   "cell_type": "code",
   "execution_count": 15,
   "id": "c1a52286",
   "metadata": {},
   "outputs": [
    {
     "name": "stdout",
     "output_type": "stream",
     "text": [
      "data work finish\n"
     ]
    }
   ],
   "source": [
    "\n",
    "df_供应商_out_tmp['券后总毛利']=df_供应商_out_tmp['月-销售毛利']-df_供应商_out_tmp['万家承担金额（去税）']+df_供应商_out_tmp['金额']\n",
    "\n",
    "df_供应商_out_tmp['月-销售净额'] = round(df_供应商_out_tmp['月-销售净额'],2)\n",
    "df_供应商_out_tmp['月-销售毛利'] = round(df_供应商_out_tmp['月-销售毛利'],2)\n",
    "df_供应商_out_tmp['金额'] = round(df_供应商_out_tmp['金额'],2)\n",
    "df_供应商_out_tmp['万家承担金额（去税）'] = round(df_供应商_out_tmp['万家承担金额（去税）'],2)\n",
    "df_供应商_out_tmp['券后总毛利'] = round(df_供应商_out_tmp['券后总毛利'],2)\n",
    "\n",
    "df_供应商_out_tmp.rename(columns={'金额':'采购收入分摊'},inplace=True)\n",
    "df_供应商_out_tmp.rename(columns={'万家承担金额（去税）':'用券金额分摊'},inplace=True)\n",
    "\n",
    "\n",
    "df_供应商_out=df_供应商_out_tmp.loc[:,['大类编码','供应商编码','供应商名称','月-销售净额','月-销售毛利','采购收入分摊','用券金额分摊', \\\n",
    "                                            '券后总毛利']]\n",
    "\n",
    "print('data work finish')"
   ]
  },
  {
   "cell_type": "code",
   "execution_count": 16,
   "id": "e568b73e",
   "metadata": {},
   "outputs": [
    {
     "name": "stdout",
     "output_type": "stream",
     "text": [
      "xls格式导出 over\n"
     ]
    }
   ],
   "source": [
    "#导出直接给到业务部门的xlsx\n",
    "writer=pd.ExcelWriter(out_file_dir+out_file)\n",
    "df_供应商_out.to_excel(writer,header=True,sheet_name='供应商毛利分析',index=False)\n",
    "writer.save()\n",
    "print('xls格式导出 over')"
   ]
  },
  {
   "cell_type": "code",
   "execution_count": 18,
   "id": "bc788c95",
   "metadata": {},
   "outputs": [],
   "source": [
    "writer.close()"
   ]
  },
  {
   "cell_type": "code",
   "execution_count": null,
   "id": "d5656da1",
   "metadata": {},
   "outputs": [],
   "source": []
  }
 ],
 "metadata": {
  "kernelspec": {
   "display_name": "Python 3",
   "language": "python",
   "name": "python3"
  },
  "language_info": {
   "codemirror_mode": {
    "name": "ipython",
    "version": 3
   },
   "file_extension": ".py",
   "mimetype": "text/x-python",
   "name": "python",
   "nbconvert_exporter": "python",
   "pygments_lexer": "ipython3",
   "version": "3.8.8"
  }
 },
 "nbformat": 4,
 "nbformat_minor": 5
}
