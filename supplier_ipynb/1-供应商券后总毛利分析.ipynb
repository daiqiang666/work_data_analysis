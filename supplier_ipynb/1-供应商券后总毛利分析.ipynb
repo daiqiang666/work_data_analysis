{
 "cells": [
  {
   "cell_type": "markdown",
   "id": "7635c62b",
   "metadata": {},
   "source": [
    "# 原始数据文件的说明：\n",
    "### supplier_data/in 目录中：\n",
    "      文件一，'02_业务报表-销售报表-大类层级-供应商-'+company+ '-'+date_Range+'.csv'，BDAS下载\n",
    "      文件二，'供应商券分摊_out'+company+ '-all-'+date_Range+'.csv'（该文件是Coupons_share()操作生成的）\n",
    "### public_data /out目录中\n",
    "        文件三，'采购收入_'+company+ '_'+date_Range_all+'.csv'，朱琳提供xls，我转化为csv文件\n",
    "        文件四，'01-用劵分摊-商品层级-原版-'+company+ '-all-'+date_Range_all+'.csv'，是多个分日券文件汇聚而成的。通过执行public_data_ipynb中券汇聚.ipynb"
   ]
  },
  {
   "cell_type": "code",
   "execution_count": 14,
   "id": "80757aae",
   "metadata": {},
   "outputs": [],
   "source": [
    "import sys\n",
    "sys.path.append('E:\\\\python-dq\\\\py\\\\work')\n",
    "import imp\n",
    "from dq_work import rw_file\n",
    "import dq_work.supplier.supplier_1 as supplier\n",
    "\n",
    "\n",
    "imp.reload(supplier)#再次引入模块，默认只有一次，调试程序时有用\n",
    "\n",
    "#建立供应商分析的对象\n",
    "###建立对象的相关参数变量\n",
    "\n",
    "company='上海'\n",
    "date_Range='202207'\n",
    "date_Range_all='20220701-0731'\n",
    "in_file_path='e:/python-dq/work_data/supplier_data/in/'\n",
    "out_file_path='e:/python-dq/work_data/supplier_data/out/'\n",
    "public_path='e:/python-dq/work_data/public_data/out/'\n",
    "\n",
    "supplier_obj=supplier.supplier_analysis(company,date_Range,date_Range_all,in_file_path,out_file_path,public_path)\n",
    "\n"
   ]
  },
  {
   "cell_type": "code",
   "execution_count": null,
   "id": "85b0e33d",
   "metadata": {},
   "outputs": [],
   "source": [
    "#生成供应商的券分摊文件，直接根据券原始数据group计算\n",
    "supplier_obj.Coupons_share()"
   ]
  },
  {
   "cell_type": "code",
   "execution_count": 15,
   "id": "97a11ea1",
   "metadata": {},
   "outputs": [
    {
     "name": "stdout",
     "output_type": "stream",
     "text": [
      "供应商的券分摊csv文件导出完成\n"
     ]
    }
   ],
   "source": [
    "\n",
    "#生成供应商的券分摊文件，根据供应商销售占比计算分摊券金额\n",
    "supplier_obj.Coupons_sales_volume_share()"
   ]
  },
  {
   "cell_type": "code",
   "execution_count": 16,
   "id": "6a1c4cc2",
   "metadata": {},
   "outputs": [
    {
     "name": "stdout",
     "output_type": "stream",
     "text": [
      "月-销售净额    1.125399e+08\n",
      "月-销售毛利    1.589104e+07\n",
      "dtype: float64\n",
      "金额    6154987.87\n",
      "dtype: float64\n",
      "万家承担金额（去税）    7.352856e+06\n",
      "dtype: float64\n",
      "load  data is over\n",
      "data DF finish\n"
     ]
    }
   ],
   "source": [
    "#生成供应商纯毛利分析的df\n",
    "\n",
    "imp.reload(supplier)#再次引入模块，默认只有一次，调试程序时有用\n",
    "\n",
    "#建立供应商分析的对象\n",
    "###建立对象的相关参数变量\n",
    "\n",
    "company='上海'\n",
    "date_Range='202207'\n",
    "date_Range_all='20220701-0731'\n",
    "in_file_path='e:/python-dq/work_data/supplier_data/in/'\n",
    "out_file_path='e:/python-dq/work_data/supplier_data/out/'\n",
    "public_path='e:/python-dq/work_data/public_data/out/'\n",
    "\n",
    "supplier_obj=supplier.supplier_analysis(company,date_Range,date_Range_all,in_file_path,out_file_path,public_path)\n",
    "\n",
    "out_supplier_df=supplier_obj.Net_gross_profit_out_df()\n",
    "\n",
    "\n"
   ]
  },
  {
   "cell_type": "code",
   "execution_count": 17,
   "id": "95851274",
   "metadata": {},
   "outputs": [
    {
     "name": "stdout",
     "output_type": "stream",
     "text": [
      "供应商纯毛利的xls导出 over\n"
     ]
    },
    {
     "name": "stderr",
     "output_type": "stream",
     "text": [
      "C:\\Users\\daiqiang\\anaconda3\\lib\\site-packages\\xlsxwriter\\workbook.py:336: UserWarning: Calling close() on already closed file.\n",
      "  warn(\"Calling close() on already closed file.\")\n"
     ]
    }
   ],
   "source": [
    "#导出xlsx文件\n",
    "\n",
    "supplier_obj.Net_gross_profit_out_xlsx(out_supplier_df)"
   ]
  },
  {
   "cell_type": "code",
   "execution_count": null,
   "id": "3dccfdb3",
   "metadata": {},
   "outputs": [],
   "source": []
  }
 ],
 "metadata": {
  "kernelspec": {
   "display_name": "Python 3",
   "language": "python",
   "name": "python3"
  },
  "language_info": {
   "codemirror_mode": {
    "name": "ipython",
    "version": 3
   },
   "file_extension": ".py",
   "mimetype": "text/x-python",
   "name": "python",
   "nbconvert_exporter": "python",
   "pygments_lexer": "ipython3",
   "version": "3.8.8"
  }
 },
 "nbformat": 4,
 "nbformat_minor": 5
}
