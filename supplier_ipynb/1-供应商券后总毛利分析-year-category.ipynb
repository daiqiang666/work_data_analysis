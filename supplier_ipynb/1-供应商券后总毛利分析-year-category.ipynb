{
 "cells": [
  {
   "cell_type": "markdown",
   "id": "7635c62b",
   "metadata": {},
   "source": [
    "# 原始数据文件的说明：\n",
    "### supplier_data/in 目录中：\n",
    "      文件一，'02_业务报表-销售报表-大类层级-供应商-'+company+ '-'+date_Range+'.csv'，BDAS下载\n",
    "      文件二，'供应商券分摊_out'+company+ '-all-'+date_Range+'.csv'（该文件是Coupons_share()操作生成的）\n",
    "### public_data /out目录中\n",
    "        文件三，'采购收入_'+company+ '_'+date_Range_all+'.csv'，朱琳提供xls，我转化为csv文件\n",
    "        文件四，'01-用劵分摊-商品层级-原版-'+company+ '-all-'+date_Range_all+'.csv'，是多个分日券文件汇聚而成的。通过执行public_data_ipynb中券汇聚.ipynb"
   ]
  },
  {
   "cell_type": "code",
   "execution_count": 7,
   "id": "80757aae",
   "metadata": {},
   "outputs": [],
   "source": [
    "import sys\n",
    "sys.path.append('E:\\\\python-dq\\\\py\\\\work')\n",
    "import imp\n",
    "from dq_work import rw_file\n",
    "import dq_work.supplier.supplier_1 as supplier\n",
    "\n",
    "\n",
    "imp.reload(supplier)#再次引入模块，默认只有一次，调试程序时有用\n",
    "\n",
    "#建立供应商分析的对象\n",
    "###建立对象的相关参数变量\n",
    "\n",
    "company='上海'\n",
    "date_Range='2022'\n",
    "date_Range_all='2022'\n",
    "in_file_path='e:/python-dq/work_data/supplier_data/in/'\n",
    "out_file_path='e:/python-dq/work_data/supplier_data/out/'\n",
    "public_path='e:/python-dq/work_data/public_data/out/'\n",
    "\n",
    "supplier_obj=supplier.supplier_analysis(company,date_Range,date_Range_all,in_file_path,out_file_path,public_path)\n",
    "\n"
   ]
  },
  {
   "cell_type": "code",
   "execution_count": 2,
   "id": "85b0e33d",
   "metadata": {},
   "outputs": [
    {
     "name": "stdout",
     "output_type": "stream",
     "text": [
      "供应商的券分摊csv文件导出完成\n"
     ]
    }
   ],
   "source": [
    "#生成供应商的券分摊文件，直接根据券原始数据group计算\n",
    "file_1='01-用劵分摊-商品层级-原版-Partial-data-'+company+'-'+date_Range_all+'.csv'\n",
    "\n",
    "supplier_obj.Coupons_share_2(file_1)"
   ]
  },
  {
   "cell_type": "code",
   "execution_count": 15,
   "id": "97a11ea1",
   "metadata": {},
   "outputs": [
    {
     "name": "stdout",
     "output_type": "stream",
     "text": [
      "供应商的券分摊csv文件导出完成\n"
     ]
    }
   ],
   "source": [
    "#是可选择性步骤\n",
    "#生成供应商的券分摊文件，根据供应商销售占比计算分摊券金额\n",
    "supplier_obj.Coupons_sales_volume_share()"
   ]
  },
  {
   "cell_type": "code",
   "execution_count": 3,
   "id": "6a1c4cc2",
   "metadata": {},
   "outputs": [
    {
     "name": "stdout",
     "output_type": "stream",
     "text": [
      "销售净额     1.624478e+09\n",
      "销售毛利额    2.325988e+08\n",
      "dtype: float64\n",
      "金额    87857248.96\n",
      "dtype: float64\n",
      "万家承担金额（去税）    1.123225e+07\n",
      "dtype: float64\n",
      "load  data is over\n",
      "data DF finish\n"
     ]
    }
   ],
   "source": [
    "#生成供应商纯毛利分析的df\n",
    "\n",
    "in_f1='03_业务报表-销售报表-大类-供应商-门店-'+company+ '-'+date_Range+'.csv'\n",
    "#in_file1='bbbb'+company+ '-'+date_Range+'.csv'\n",
    "\n",
    "in_f2='采购收入-'+company+ '-'+date_Range_all+'.csv'\n",
    "#in_f2='AAAA'+company+ '-'+date_Range_all+'.csv'\n",
    "in_f3='供应商券分摊_out'+company+ '-Partial-'+date_Range+'.csv'\n",
    "in_f4='01-用劵分摊-商品层级-原版-Partial-data-'+company+'-'+date_Range_all+'.csv'\n",
    "\n",
    "\n",
    "out_supplier_df=supplier_obj.Net_gross_profit_out_df_2(in_f1,in_f2,in_f3,in_f4)\n",
    "\n",
    "\n"
   ]
  },
  {
   "cell_type": "code",
   "execution_count": 4,
   "id": "2c9519ef",
   "metadata": {},
   "outputs": [],
   "source": [
    "#筛选需要分析的所属大类的供应商\n",
    "bool_supplier1=out_supplier_df['大类编码']==3101\n",
    "out_supplier_df_1=out_supplier_df[bool_supplier1]"
   ]
  },
  {
   "cell_type": "code",
   "execution_count": 5,
   "id": "8b593ce0",
   "metadata": {},
   "outputs": [
    {
     "name": "stdout",
     "output_type": "stream",
     "text": [
      "销售净额      1.248110e+08\n",
      "采购收入分摊    4.957423e+06\n",
      "用券金额分摊    1.123225e+07\n",
      "dtype: float64\n"
     ]
    }
   ],
   "source": [
    "#out_supplier_df_1\n",
    "\n",
    "print(out_supplier_df_1.loc[:,['销售净额','采购收入分摊','用券金额分摊']].sum())"
   ]
  },
  {
   "cell_type": "code",
   "execution_count": 17,
   "id": "95851274",
   "metadata": {},
   "outputs": [
    {
     "name": "stdout",
     "output_type": "stream",
     "text": [
      "供应商纯毛利的xls导出 over\n"
     ]
    },
    {
     "name": "stderr",
     "output_type": "stream",
     "text": [
      "C:\\Users\\daiqiang\\anaconda3\\lib\\site-packages\\xlsxwriter\\workbook.py:336: UserWarning: Calling close() on already closed file.\n",
      "  warn(\"Calling close() on already closed file.\")\n"
     ]
    }
   ],
   "source": [
    "#导出xlsx文件\n",
    "\n",
    "supplier_obj.Net_gross_profit_out_xlsx(out_supplier_df)"
   ]
  },
  {
   "cell_type": "code",
   "execution_count": 8,
   "id": "3dccfdb3",
   "metadata": {},
   "outputs": [
    {
     "name": "stdout",
     "output_type": "stream",
     "text": [
      "input mysql\n"
     ]
    },
    {
     "name": "stderr",
     "output_type": "stream",
     "text": [
      "C:\\Users\\daiqiang\\anaconda3\\lib\\site-packages\\pandas\\io\\sql.py:1444: UserWarning: The provided table name 'Partial_supplier2022' is not found exactly as such in the database after writing the table, possibly due to case sensitivity issues. Consider using lower case table names.\n",
      "  warnings.warn(msg, UserWarning)\n"
     ]
    }
   ],
   "source": [
    "#落库table\n",
    "\n",
    "in_table='Partial_supplier' + date_Range\n",
    "supplier_obj.input_mysql(out_supplier_df_1,in_table)"
   ]
  },
  {
   "cell_type": "code",
   "execution_count": null,
   "id": "66e57f63",
   "metadata": {},
   "outputs": [],
   "source": []
  }
 ],
 "metadata": {
  "kernelspec": {
   "display_name": "Python 3",
   "language": "python",
   "name": "python3"
  },
  "language_info": {
   "codemirror_mode": {
    "name": "ipython",
    "version": 3
   },
   "file_extension": ".py",
   "mimetype": "text/x-python",
   "name": "python",
   "nbconvert_exporter": "python",
   "pygments_lexer": "ipython3",
   "version": "3.8.8"
  }
 },
 "nbformat": 4,
 "nbformat_minor": 5
}
